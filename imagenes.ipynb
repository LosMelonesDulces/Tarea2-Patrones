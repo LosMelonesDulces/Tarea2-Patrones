{
  "cells": [
    {
      "cell_type": "markdown",
      "metadata": {
        "id": "Icvabld6rqCQ"
      },
      "source": [
        "# K-Nearest Neighbors Classification"
      ]
    },
    {
      "cell_type": "code",
      "execution_count": 125,
      "metadata": {
        "id": "kQET2K1-rqCS"
      },
      "outputs": [],
      "source": [
        "import numpy as np\n"
      ]
    },
    {
      "cell_type": "code",
      "execution_count": 126,
      "metadata": {
        "id": "Sm89iF04rqCT"
      },
      "outputs": [],
      "source": [
        "a = np.random.rand(3,4)"
      ]
    },
    {
      "cell_type": "code",
      "execution_count": 127,
      "metadata": {
        "colab": {
          "base_uri": "https://localhost:8080/"
        },
        "id": "B5rd-9forqCT",
        "outputId": "cf3e9742-1fab-4e90-9f03-e21a5b57050e"
      },
      "outputs": [
        {
          "output_type": "execute_result",
          "data": {
            "text/plain": [
              "array([[0.65207957, 0.31457141, 0.12612597, 0.71987321],\n",
              "       [0.05341416, 0.9361421 , 0.76711524, 0.52897121],\n",
              "       [0.00711722, 0.67727539, 0.73382534, 0.00186328]])"
            ]
          },
          "metadata": {},
          "execution_count": 127
        }
      ],
      "source": [
        "a"
      ]
    },
    {
      "cell_type": "code",
      "execution_count": 128,
      "metadata": {
        "id": "C_1YvLV-rqCV"
      },
      "outputs": [],
      "source": [
        "# res = 0\n",
        "# for j in range(D):\n",
        "#     res += (a[j] - b[j])**2\n",
        "# sqrt(res)\n",
        "\n",
        "\n",
        "def euclidian_distance(a, b):\n",
        "    return np.sqrt(np.sum((a-b)**2, axis=1))"
      ]
    },
    {
      "cell_type": "code",
      "execution_count": 129,
      "metadata": {
        "colab": {
          "base_uri": "https://localhost:8080/"
        },
        "id": "VH1HYyjerqCV",
        "outputId": "6b740f67-6848-4408-b502-a922dbd9b0d4"
      },
      "outputs": [
        {
          "output_type": "stream",
          "name": "stdout",
          "text": [
            "[[0.48874051 0.70268201]]\n",
            "[[0.69789814 0.59200856]]\n"
          ]
        },
        {
          "output_type": "execute_result",
          "data": {
            "text/plain": [
              "array([0.23663374])"
            ]
          },
          "metadata": {},
          "execution_count": 129
        }
      ],
      "source": [
        "x = np.random.rand(1, 2)\n",
        "y = np.random.rand(1, 2)\n",
        "print(x)\n",
        "print(y)\n",
        "euclidian_distance(x, y)"
      ]
    },
    {
      "cell_type": "code",
      "execution_count": 130,
      "metadata": {
        "id": "Fzv8GR6XrqCV"
      },
      "outputs": [],
      "source": [
        "def score(X_test, y_test):\n",
        "    y_pred = predict(X_test)\n",
        "\n",
        "    return float(sum(y_pred == y_test))/ float(len(y_test))"
      ]
    },
    {
      "cell_type": "code",
      "execution_count": 131,
      "metadata": {
        "id": "aN0XStSorqCW"
      },
      "outputs": [],
      "source": [
        "class KNearestNeighbors():\n",
        "    def __init__(self, X_train, y_train, n_neighbors=5, weights='uniform'):\n",
        "\n",
        "        self.X_train = X_train\n",
        "        self.y_train = y_train\n",
        "\n",
        "        self.n_neighbors = n_neighbors\n",
        "        self.weights = weights\n",
        "\n",
        "        self.n_classes = 3\n",
        "\n",
        "    def euclidian_distance(self, a, b):\n",
        "        return np.sqrt(np.sum((a - b)**2, axis=1))\n",
        "\n",
        "    def kneighbors(self, X_test, return_distance=False):\n",
        "\n",
        "        dist = []\n",
        "        neigh_ind = []\n",
        "\n",
        "#         print(X_test, self.X_train. X_test, self.X_train)\n",
        "        point_dist = []\n",
        "        for x_test in X_test:\n",
        "            point_dist += [ self.euclidian_distance(x_test, self.X_train) ]\n",
        "\n",
        "        for row in point_dist:\n",
        "            enum_neigh = enumerate(row)\n",
        "            sorted_neigh = sorted(enum_neigh,\n",
        "                                  key=lambda x: x[1])[:self.n_neighbors]\n",
        "\n",
        "            ind_list = [tup[0] for tup in sorted_neigh]\n",
        "            dist_list = [tup[1] for tup in sorted_neigh]\n",
        "\n",
        "            dist.append(dist_list)\n",
        "            neigh_ind.append(ind_list)\n",
        "\n",
        "        if return_distance:\n",
        "            return np.array(dist), np.array(neigh_ind)\n",
        "\n",
        "        return np.array(neigh_ind)\n",
        "\n",
        "    def predict(self, X_test):\n",
        "\n",
        "        if self.weights == 'uniform':\n",
        "            neighbors = self.kneighbors(X_test)\n",
        "            y_pred = np.array([\n",
        "                np.argmax(np.bincount(self.y_train[neighbor]))\n",
        "                for neighbor in neighbors\n",
        "            ])\n",
        "            #print(\"Y_pred: \", y_pred)\n",
        "            return y_pred\n",
        "\n",
        "        if self.weights == 'distance':\n",
        "\n",
        "            dist, neigh_ind = self.kneighbors(X_test, return_distance=True)\n",
        "\n",
        "            inv_dist = 1 / dist\n",
        "\n",
        "            mean_inv_dist = inv_dist / np.sum(inv_dist, axis=1)[:, np.newaxis]\n",
        "#             print(mean_inv_dist.shape)\n",
        "\n",
        "            proba = []\n",
        "\n",
        "            for i, row in enumerate(mean_inv_dist):\n",
        "\n",
        "                row_pred = self.y_train[neigh_ind[i]]\n",
        "\n",
        "                for k in range(self.n_classes):\n",
        "                    indices = np.where(row_pred == k)\n",
        "                    prob_ind = np.sum(row[indices])\n",
        "                    proba.append(np.array(prob_ind))\n",
        "\n",
        "            predict_proba = np.array(proba).reshape(X_test.shape[0],\n",
        "                                                    self.n_classes)\n",
        "\n",
        "            y_pred = np.array([np.argmax(item) for item in predict_proba])\n",
        "\n",
        "            return y_pred\n",
        "\n",
        "    def score(self, X_test, y_test):\n",
        "        y_pred = self.predict(X_test)\n",
        "        return float(sum(y_pred == y_test)) / float(len(y_test)), y_pred, y_test\n"
      ]
    },
    {
      "cell_type": "markdown",
      "metadata": {
        "id": "MM1WwYavrqCW"
      },
      "source": [
        "# Iris dataset (Observations/Treatments)"
      ]
    },
    {
      "cell_type": "code",
      "execution_count": 132,
      "metadata": {
        "colab": {
          "base_uri": "https://localhost:8080/",
          "height": 509
        },
        "id": "oPVqjmVVrqCW",
        "outputId": "79773610-469b-4c7f-c67a-07e269f531f6"
      },
      "outputs": [
        {
          "output_type": "display_data",
          "data": {
            "text/plain": [
              "<Figure size 600x500 with 12 Axes>"
            ],
            "image/png": "[encoded data removed]"
          },
          "metadata": {}
        }
      ],
      "source": [
        "import sklearn.datasets as datasets\n",
        "from sklearn.datasets import load_digits\n",
        "from sklearn.model_selection import train_test_split\n",
        "import matplotlib.pyplot as plt\n",
        "from sklearn.neighbors import KNeighborsClassifier\n",
        "import pandas as pd\n",
        "\n",
        "dataset = datasets.load_digits(as_frame=True)\n",
        "\n",
        "X = dataset.data\n",
        "y = dataset.target\n",
        "\n",
        "# Cargar dataset de dígitos\n",
        "digits = load_digits(n_class=10)\n",
        "\n",
        "# Crear figura 3x4\n",
        "fig, axes = plt.subplots(3, 4, figsize=(6, 5))\n",
        "\n",
        "# Recorrer los primeros 12 dígitos\n",
        "for i, ax in enumerate(axes.flat):\n",
        "    ax.imshow(digits.images[i], cmap='gray')   # mostrar imagen en escala de grises\n",
        "    ax.set_title(f\"Etiqueta: {digits.target[i]}\")  # etiqueta del dígito\n",
        "    ax.axis('off')  # quitar ejes\n",
        "\n",
        "plt.tight_layout()\n",
        "plt.show()\n"
      ]
    },
    {
      "cell_type": "code",
      "execution_count": 132,
      "metadata": {
        "id": "7vUI1-FerqCW"
      },
      "outputs": [],
      "source": []
    },
    {
      "cell_type": "code",
      "execution_count": 133,
      "metadata": {
        "colab": {
          "base_uri": "https://localhost:8080/"
        },
        "id": "_9qhr2JDrqCW",
        "outputId": "05d76ec1-43de-4855-8eee-48184e91a0c1"
      },
      "outputs": [
        {
          "output_type": "stream",
          "name": "stdout",
          "text": [
            "datos\n",
            "1797\n",
            "features\n",
            "64\n"
          ]
        }
      ],
      "source": [
        "print('datos')\n",
        "print(len(digits.images))\n",
        "print('features')\n",
        "print(len(digits.feature_names))"
      ]
    },
    {
      "cell_type": "code",
      "execution_count": 134,
      "metadata": {
        "colab": {
          "base_uri": "https://localhost:8080/",
          "height": 98
        },
        "id": "8JPjh5ZbrqCY",
        "outputId": "fd4342a6-fd53-4356-f6f4-1198295574b2"
      },
      "outputs": [
        {
          "output_type": "stream",
          "name": "stdout",
          "text": [
            "[8 8 7 7 8 7 6 4 3 9 4 7 0 9 4 0 4 8 1 9] [8 8 7 7 8 7 6 4 3 9 4 7 0 9 4 0 4 8 1 9]\n"
          ]
        },
        {
          "output_type": "execute_result",
          "data": {
            "text/plain": [
              "          Our Implementation  Sklearn's Implementation\n",
              "Accuracy            0.977778                  0.977778"
            ],
            "text/html": [
              "\n",
              "  <div id=\"df-837ecb47-df7f-4b03-a910-7929854da810\" class=\"colab-df-container\">\n",
              "    <div>\n",
              "<style scoped>\n",
              "    .dataframe tbody tr th:only-of-type {\n",
              "        vertical-align: middle;\n",
              "    }\n",
              "\n",
              "    .dataframe tbody tr th {\n",
              "        vertical-align: top;\n",
              "    }\n",
              "\n",
              "    .dataframe thead th {\n",
              "        text-align: right;\n",
              "    }\n",
              "</style>\n",
              "<table border=\"1\" class=\"dataframe\">\n",
              "  <thead>\n",
              "    <tr style=\"text-align: right;\">\n",
              "      <th></th>\n",
              "      <th>Our Implementation</th>\n",
              "      <th>Sklearn's Implementation</th>\n",
              "    </tr>\n",
              "  </thead>\n",
              "  <tbody>\n",
              "    <tr>\n",
              "      <th>Accuracy</th>\n",
              "      <td>0.977778</td>\n",
              "      <td>0.977778</td>\n",
              "    </tr>\n",
              "  </tbody>\n",
              "</table>\n",
              "</div>\n",
              "    <div class=\"colab-df-buttons\">\n",
              "\n",
              "  <div class=\"colab-df-container\">\n",
              "    <button class=\"colab-df-convert\" onclick=\"convertToInteractive('df-837ecb47-df7f-4b03-a910-7929854da810')\"\n",
              "            title=\"Convert this dataframe to an interactive table.\"\n",
              "            style=\"display:none;\">\n",
              "\n",
              "  <svg xmlns=\"http://www.w3.org/2000/svg\" height=\"24px\" viewBox=\"0 -960 960 960\">\n",
              "    <path d=\"M120-120v-720h720v720H120Zm60-500h600v-160H180v160Zm220 220h160v-160H400v160Zm0 220h160v-160H400v160ZM180-400h160v-160H180v160Zm440 0h160v-160H620v160ZM180-180h160v-160H180v160Zm440 0h160v-160H620v160Z\"/>\n",
              "  </svg>\n",
              "    </button>\n",
              "\n",
              "  <style>\n",
              "    .colab-df-container {\n",
              "      display:flex;\n",
              "      gap: 12px;\n",
              "    }\n",
              "\n",
              "    .colab-df-convert {\n",
              "      background-color: #E8F0FE;\n",
              "      border: none;\n",
              "      border-radius: 50%;\n",
              "      cursor: pointer;\n",
              "      display: none;\n",
              "      fill: #1967D2;\n",
              "      height: 32px;\n",
              "      padding: 0 0 0 0;\n",
              "      width: 32px;\n",
              "    }\n",
              "\n",
              "    .colab-df-convert:hover {\n",
              "      background-color: #E2EBFA;\n",
              "      box-shadow: 0px 1px 2px rgba(60, 64, 67, 0.3), 0px 1px 3px 1px rgba(60, 64, 67, 0.15);\n",
              "      fill: #174EA6;\n",
              "    }\n",
              "\n",
              "    .colab-df-buttons div {\n",
              "      margin-bottom: 4px;\n",
              "    }\n",
              "\n",
              "    [theme=dark] .colab-df-convert {\n",
              "      background-color: #3B4455;\n",
              "      fill: #D2E3FC;\n",
              "    }\n",
              "\n",
              "    [theme=dark] .colab-df-convert:hover {\n",
              "      background-color: #434B5C;\n",
              "      box-shadow: 0px 1px 3px 1px rgba(0, 0, 0, 0.15);\n",
              "      filter: drop-shadow(0px 1px 2px rgba(0, 0, 0, 0.3));\n",
              "      fill: #FFFFFF;\n",
              "    }\n",
              "  </style>\n",
              "\n",
              "    <script>\n",
              "      const buttonEl =\n",
              "        document.querySelector('#df-837ecb47-df7f-4b03-a910-7929854da810 button.colab-df-convert');\n",
              "      buttonEl.style.display =\n",
              "        google.colab.kernel.accessAllowed ? 'block' : 'none';\n",
              "\n",
              "      async function convertToInteractive(key) {\n",
              "        const element = document.querySelector('#df-837ecb47-df7f-4b03-a910-7929854da810');\n",
              "        const dataTable =\n",
              "          await google.colab.kernel.invokeFunction('convertToInteractive',\n",
              "                                                    [key], {});\n",
              "        if (!dataTable) return;\n",
              "\n",
              "        const docLinkHtml = 'Like what you see? Visit the ' +\n",
              "          '<a target=\"_blank\" href=https://colab.research.google.com/notebooks/data_table.ipynb>data table notebook</a>'\n",
              "          + ' to learn more about interactive tables.';\n",
              "        element.innerHTML = '';\n",
              "        dataTable['output_type'] = 'display_data';\n",
              "        await google.colab.output.renderOutput(dataTable, element);\n",
              "        const docLink = document.createElement('div');\n",
              "        docLink.innerHTML = docLinkHtml;\n",
              "        element.appendChild(docLink);\n",
              "      }\n",
              "    </script>\n",
              "  </div>\n",
              "\n",
              "\n",
              "    </div>\n",
              "  </div>\n"
            ],
            "application/vnd.google.colaboratory.intrinsic+json": {
              "type": "dataframe",
              "summary": "{\n  \"name\": \"             ['Our Implementation', 'Sklearn\\\\'s Implementation'])\",\n  \"rows\": 1,\n  \"fields\": [\n    {\n      \"column\": \"Our Implementation\",\n      \"properties\": {\n        \"dtype\": \"number\",\n        \"std\": null,\n        \"min\": 0.9777777777777777,\n        \"max\": 0.9777777777777777,\n        \"num_unique_values\": 1,\n        \"samples\": [\n          0.9777777777777777\n        ],\n        \"semantic_type\": \"\",\n        \"description\": \"\"\n      }\n    },\n    {\n      \"column\": \"Sklearn's Implementation\",\n      \"properties\": {\n        \"dtype\": \"number\",\n        \"std\": null,\n        \"min\": 0.9777777777777777,\n        \"max\": 0.9777777777777777,\n        \"num_unique_values\": 1,\n        \"samples\": [\n          0.9777777777777777\n        ],\n        \"semantic_type\": \"\",\n        \"description\": \"\"\n      }\n    }\n  ]\n}"
            }
          },
          "metadata": {},
          "execution_count": 134
        }
      ],
      "source": [
        "if isinstance(X, pd.DataFrame):\n",
        "    X = X.to_numpy()\n",
        "    y = y.to_numpy()\n",
        "\n",
        "X_train, X_test, y_train, y_test = train_test_split(\\\n",
        "                X, y, test_size=0.25,stratify=y, random_state=45)\n",
        "\n",
        "\n",
        "\n",
        "our_classifier = KNearestNeighbors(X_train, y_train, n_neighbors=8)\n",
        "sklearn_classifier = KNeighborsClassifier(n_neighbors=8).fit(X_train, y_train)\n",
        "\n",
        "our_accuracy, y_pred, y_test = our_classifier.score(X_test, y_test)\n",
        "sklearn_accuracy = sklearn_classifier.score(X_test, y_test)\n",
        "\n",
        "print(y_pred[:20], y_test[:20])\n",
        "\n",
        "pd.DataFrame([[our_accuracy, sklearn_accuracy]],\n",
        "             ['Accuracy'],\n",
        "             ['Our Implementation', 'Sklearn\\'s Implementation'])"
      ]
    },
    {
      "cell_type": "code",
      "execution_count": 135,
      "metadata": {
        "colab": {
          "base_uri": "https://localhost:8080/",
          "height": 799
        },
        "id": "BimYZO7DrqCY",
        "outputId": "8970ccfd-66b9-48d2-8e0e-dd9534c45c75"
      },
      "outputs": [
        {
          "output_type": "stream",
          "name": "stdout",
          "text": [
            "k=1, accuracy=0.9889\n",
            "k=2, accuracy=0.9822\n",
            "k=3, accuracy=0.9867\n",
            "k=4, accuracy=0.9889\n",
            "k=5, accuracy=0.9844\n",
            "k=6, accuracy=0.9800\n",
            "k=7, accuracy=0.9822\n",
            "k=8, accuracy=0.9778\n",
            "k=9, accuracy=0.9800\n"
          ]
        },
        {
          "output_type": "display_data",
          "data": {
            "text/plain": [
              "<Figure size 800x500 with 1 Axes>"
            ],
            "image/png": "[encoded data removed]"
          },
          "metadata": {}
        },
        {
          "output_type": "execute_result",
          "data": {
            "text/plain": [
              "[0.9888888888888889,\n",
              " 0.9822222222222222,\n",
              " 0.9866666666666667,\n",
              " 0.9888888888888889,\n",
              " 0.9844444444444445,\n",
              " 0.98,\n",
              " 0.9822222222222222,\n",
              " 0.9777777777777777,\n",
              " 0.98]"
            ]
          },
          "metadata": {},
          "execution_count": 135
        }
      ],
      "source": [
        "def evaluate_k_range(k_values=range(1,10), weights=\"uniform\"):\n",
        "\n",
        "    accuracies = []\n",
        "\n",
        "    for k in k_values:\n",
        "\n",
        "        model = KNearestNeighbors(X_train, y_train, n_neighbors=k, weights=\"uniform\")\n",
        "\n",
        "\n",
        "        acc, _, _ = model.score(X_test, y_test)\n",
        "        accuracies.append(acc)\n",
        "        print(f\"k={k}, accuracy={acc:.4f}\")\n",
        "\n",
        "\n",
        "    plt.figure(figsize=(8,5))\n",
        "    plt.plot(k_values, accuracies, marker='o')\n",
        "    plt.xlabel(\"Número de vecinos (k)\")\n",
        "    plt.ylabel(\"Accuracy\")\n",
        "    plt.title(f\"Accuracy vs k (weights='{weights}')\")\n",
        "    plt.grid(True)\n",
        "    plt.show()\n",
        "\n",
        "    return accuracies\n",
        "evaluate_k_range()"
      ]
    }
  ],
  "metadata": {
    "kernelspec": {
      "display_name": "Python 3 (ipykernel)",
      "language": "python",
      "name": "python3"
    },
    "language_info": {
      "codemirror_mode": {
        "name": "ipython",
        "version": 3
      },
      "file_extension": ".py",
      "mimetype": "text/x-python",
      "name": "python",
      "nbconvert_exporter": "python",
      "pygments_lexer": "ipython3",
      "version": "3.12.3"
    },
    "colab": {
      "provenance": []
    }
  },
  "nbformat": 4,
  "nbformat_minor": 0
}