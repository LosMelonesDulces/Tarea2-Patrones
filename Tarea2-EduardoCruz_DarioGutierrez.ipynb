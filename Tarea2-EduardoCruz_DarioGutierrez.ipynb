{
 "cells": [
  {
   "cell_type": "markdown",
   "metadata": {
    "id": "Icvabld6rqCQ"
   },
   "source": [
    "# K-Nearest Neighbors Classification for Images"
   ]
  },
  {
   "cell_type": "code",
   "execution_count": 69,
   "metadata": {
    "id": "kQET2K1-rqCS"
   },
   "outputs": [],
   "source": [
    "import numpy as np\n"
   ]
  },
  {
   "cell_type": "code",
   "execution_count": 70,
   "metadata": {
    "id": "Sm89iF04rqCT"
   },
   "outputs": [],
   "source": [
    "a = np.random.rand(3,4)"
   ]
  },
  {
   "cell_type": "code",
   "execution_count": 71,
   "metadata": {
    "colab": {
     "base_uri": "https://localhost:8080/"
    },
    "id": "B5rd-9forqCT",
    "outputId": "d120f874-1eb3-4003-a665-3667687be19c"
   },
   "outputs": [
    {
     "data": {
      "text/plain": [
       "array([[0.37506671, 0.38095315, 0.54231439, 0.64065565],\n",
       "       [0.45395605, 0.06985598, 0.70660705, 0.27102016],\n",
       "       [0.50667913, 0.47775728, 0.46834644, 0.76656814]])"
      ]
     },
     "execution_count": 71,
     "metadata": {},
     "output_type": "execute_result"
    }
   ],
   "source": [
    "a"
   ]
  },
  {
   "cell_type": "code",
   "execution_count": 72,
   "metadata": {
    "id": "C_1YvLV-rqCV"
   },
   "outputs": [],
   "source": [
    "# res = 0\n",
    "# for j in range(D):\n",
    "#     res += (a[j] - b[j])**2\n",
    "# sqrt(res)\n",
    "\n",
    "\n",
    "def euclidian_distance(a, b):\n",
    "    return np.sqrt(np.sum((a-b)**2, axis=1))"
   ]
  },
  {
   "cell_type": "code",
   "execution_count": 73,
   "metadata": {
    "colab": {
     "base_uri": "https://localhost:8080/"
    },
    "id": "VH1HYyjerqCV",
    "outputId": "11e03534-92fd-469b-d88f-a9889176d719"
   },
   "outputs": [
    {
     "name": "stdout",
     "output_type": "stream",
     "text": [
      "[[0.9224096  0.62512547]]\n",
      "[[0.63496722 0.46140153]]\n"
     ]
    },
    {
     "data": {
      "text/plain": [
       "array([0.33080002])"
      ]
     },
     "execution_count": 73,
     "metadata": {},
     "output_type": "execute_result"
    }
   ],
   "source": [
    "x = np.random.rand(1, 2)\n",
    "y = np.random.rand(1, 2)\n",
    "print(x)\n",
    "print(y)\n",
    "euclidian_distance(x, y)"
   ]
  },
  {
   "cell_type": "code",
   "execution_count": 74,
   "metadata": {
    "id": "Fzv8GR6XrqCV"
   },
   "outputs": [],
   "source": [
    "def score(X_test, y_test):\n",
    "    y_pred = predict(X_test)\n",
    "\n",
    "    return float(sum(y_pred == y_test))/ float(len(y_test))"
   ]
  },
  {
   "cell_type": "code",
   "execution_count": 75,
   "metadata": {
    "id": "aN0XStSorqCW"
   },
   "outputs": [],
   "source": [
    "class KNearestNeighbors():\n",
    "    def __init__(self, X_train, y_train, n_neighbors=5, weights='uniform'):\n",
    "\n",
    "        self.X_train = X_train\n",
    "        self.y_train = y_train\n",
    "\n",
    "        self.n_neighbors = n_neighbors\n",
    "        self.weights = weights\n",
    "\n",
    "        self.n_classes = 3\n",
    "\n",
    "    def chebyshev_modified_distance(self, a, b):\n",
    "        return np.median(np.abs(a - b),axis=1)\n",
    "\n",
    "    def euclidian_distance(self, a, b):\n",
    "        return np.sqrt(np.sum((a-b)**2, axis=1))\n",
    "\n",
    "    def kneighbors(self, X_test, return_distance=False):\n",
    "\n",
    "        dist = []\n",
    "        neigh_ind = []\n",
    "\n",
    "#         print(X_test, self.X_train. X_test, self.X_train)\n",
    "        point_dist = []\n",
    "\n",
    "        if return_distance:\n",
    "            for x_test in X_test:\n",
    "                point_dist += [ self.chebyshev_modified_distance(x_test, self.X_train) ]\n",
    "        else:\n",
    "            for x_test in X_test:\n",
    "                point_dist += [ self.euclidian_distance(x_test, self.X_train) ]\n",
    "\n",
    "        for row in point_dist:\n",
    "            enum_neigh = enumerate(row)\n",
    "            sorted_neigh = sorted(enum_neigh,\n",
    "                                  key=lambda x: x[1])[:self.n_neighbors]\n",
    "\n",
    "            ind_list = [tup[0] for tup in sorted_neigh]\n",
    "            dist_list = [tup[1] for tup in sorted_neigh]\n",
    "\n",
    "            dist.append(dist_list)\n",
    "            neigh_ind.append(ind_list)\n",
    "\n",
    "        if return_distance:\n",
    "            return np.array(dist), np.array(neigh_ind)\n",
    "\n",
    "        return np.array(neigh_ind)\n",
    "\n",
    "    def predict(self, X_test):\n",
    "\n",
    "        if self.weights == 'uniform':\n",
    "            neighbors = self.kneighbors(X_test)\n",
    "            y_pred = np.array([\n",
    "                np.argmax(np.bincount(self.y_train[neighbor]))\n",
    "                for neighbor in neighbors\n",
    "            ])\n",
    "            #print(\"Y_pred: \", y_pred)\n",
    "            return y_pred\n",
    "\n",
    "        if self.weights == 'distance':\n",
    "\n",
    "            dist, neigh_ind = self.kneighbors(X_test, return_distance=True)\n",
    "\n",
    "            inv_dist = 1 / dist\n",
    "\n",
    "            mean_inv_dist = inv_dist / np.sum(inv_dist, axis=1)[:, np.newaxis]\n",
    "#             print(mean_inv_dist.shape)\n",
    "\n",
    "            proba = []\n",
    "\n",
    "            for i, row in enumerate(mean_inv_dist):\n",
    "\n",
    "                row_pred = self.y_train[neigh_ind[i]]\n",
    "\n",
    "                for k in range(self.n_classes):\n",
    "                    indices = np.where(row_pred == k)\n",
    "                    prob_ind = np.sum(row[indices])\n",
    "                    proba.append(np.array(prob_ind))\n",
    "\n",
    "            predict_proba = np.array(proba).reshape(X_test.shape[0],\n",
    "                                                    self.n_classes)\n",
    "\n",
    "            y_pred = np.array([np.argmax(item) for item in predict_proba])\n",
    "\n",
    "            return y_pred\n",
    "\n",
    "    def score(self, X_test, y_test):\n",
    "        y_pred = self.predict(X_test)\n",
    "        return float(sum(y_pred == y_test)) / float(len(y_test)), y_pred, y_test\n"
   ]
  },
  {
   "cell_type": "markdown",
   "metadata": {
    "id": "MM1WwYavrqCW"
   },
   "source": [
    "# Iris dataset (Observations/Treatments)"
   ]
  },
  {
   "cell_type": "code",
   "execution_count": 76,
   "metadata": {
    "colab": {
     "base_uri": "https://localhost:8080/",
     "height": 509
    },
    "id": "oPVqjmVVrqCW",
    "outputId": "7d3d050c-fcf3-48cf-c042-fc343144644d"
   },
   "outputs": [
    {
     "data": {
      "image/png": "[encoded data removed]",
      "text/plain": [
       "<Figure size 600x500 with 12 Axes>"
      ]
     },
     "metadata": {},
     "output_type": "display_data"
    }
   ],
   "source": [
    "import sklearn.datasets as datasets\n",
    "from sklearn.datasets import load_digits\n",
    "from sklearn.model_selection import train_test_split\n",
    "import matplotlib.pyplot as plt\n",
    "from sklearn.neighbors import KNeighborsClassifier\n",
    "import pandas as pd\n",
    "\n",
    "dataset = datasets.load_digits(as_frame=True)\n",
    "\n",
    "X = dataset.data\n",
    "y = dataset.target\n",
    "\n",
    "# Cargar dataset de dígitos\n",
    "digits = load_digits(n_class=10)\n",
    "\n",
    "# Crear figura 3x4\n",
    "fig, axes = plt.subplots(3, 4, figsize=(6, 5))\n",
    "\n",
    "# Recorrer los primeros 12 dígitos\n",
    "for i, ax in enumerate(axes.flat):\n",
    "    ax.imshow(digits.images[i], cmap='gray')   # mostrar imagen en escala de grises\n",
    "    ax.set_title(f\"Etiqueta: {digits.target[i]}\")  # etiqueta del dígito\n",
    "    ax.axis('off')  # quitar ejes\n",
    "\n",
    "plt.tight_layout()\n",
    "plt.show()\n"
   ]
  },
  {
   "cell_type": "code",
   "execution_count": 77,
   "metadata": {
    "colab": {
     "base_uri": "https://localhost:8080/"
    },
    "id": "_9qhr2JDrqCW",
    "outputId": "4f4ad78a-3d3d-4cbe-aca3-aadb7bba2452"
   },
   "outputs": [
    {
     "name": "stdout",
     "output_type": "stream",
     "text": [
      "datos\n",
      "1797\n",
      "features\n",
      "64\n"
     ]
    }
   ],
   "source": [
    "print('datos')\n",
    "print(len(digits.images))\n",
    "print('features')\n",
    "print(len(digits.feature_names))"
   ]
  },
  {
   "cell_type": "code",
   "execution_count": 78,
   "metadata": {
    "colab": {
     "base_uri": "https://localhost:8080/",
     "height": 98
    },
    "id": "8JPjh5ZbrqCY",
    "outputId": "9e28500c-fce8-4b60-ac60-829673308d06"
   },
   "outputs": [
    {
     "name": "stdout",
     "output_type": "stream",
     "text": [
      "[8 8 7 7 8 7 6 4 3 9 4 7 0 9 4 0 4 8 1 9] [8 8 7 7 8 7 6 4 3 9 4 7 0 9 4 0 4 8 1 9]\n"
     ]
    },
    {
     "data": {
      "application/vnd.google.colaboratory.intrinsic+json": {
       "summary": "{\n  \"name\": \"             ['Our Implementation', 'Sklearn\\\\'s Implementation'])\",\n  \"rows\": 1,\n  \"fields\": [\n    {\n      \"column\": \"Our Implementation\",\n      \"properties\": {\n        \"dtype\": \"number\",\n        \"std\": null,\n        \"min\": 0.9777777777777777,\n        \"max\": 0.9777777777777777,\n        \"num_unique_values\": 1,\n        \"samples\": [\n          0.9777777777777777\n        ],\n        \"semantic_type\": \"\",\n        \"description\": \"\"\n      }\n    },\n    {\n      \"column\": \"Sklearn's Implementation\",\n      \"properties\": {\n        \"dtype\": \"number\",\n        \"std\": null,\n        \"min\": 0.9777777777777777,\n        \"max\": 0.9777777777777777,\n        \"num_unique_values\": 1,\n        \"samples\": [\n          0.9777777777777777\n        ],\n        \"semantic_type\": \"\",\n        \"description\": \"\"\n      }\n    }\n  ]\n}",
       "type": "dataframe"
      },
      "text/html": [
       "\n",
       "  <div id=\"df-62f82cd6-c9c8-43b1-8a2b-d4a9ff2e67b0\" class=\"colab-df-container\">\n",
       "    <div>\n",
       "<style scoped>\n",
       "    .dataframe tbody tr th:only-of-type {\n",
       "        vertical-align: middle;\n",
       "    }\n",
       "\n",
       "    .dataframe tbody tr th {\n",
       "        vertical-align: top;\n",
       "    }\n",
       "\n",
       "    .dataframe thead th {\n",
       "        text-align: right;\n",
       "    }\n",
       "</style>\n",
       "<table border=\"1\" class=\"dataframe\">\n",
       "  <thead>\n",
       "    <tr style=\"text-align: right;\">\n",
       "      <th></th>\n",
       "      <th>Our Implementation</th>\n",
       "      <th>Sklearn's Implementation</th>\n",
       "    </tr>\n",
       "  </thead>\n",
       "  <tbody>\n",
       "    <tr>\n",
       "      <th>Accuracy</th>\n",
       "      <td>0.977778</td>\n",
       "      <td>0.977778</td>\n",
       "    </tr>\n",
       "  </tbody>\n",
       "</table>\n",
       "</div>\n",
       "    <div class=\"colab-df-buttons\">\n",
       "\n",
       "  <div class=\"colab-df-container\">\n",
       "    <button class=\"colab-df-convert\" onclick=\"convertToInteractive('df-62f82cd6-c9c8-43b1-8a2b-d4a9ff2e67b0')\"\n",
       "            title=\"Convert this dataframe to an interactive table.\"\n",
       "            style=\"display:none;\">\n",
       "\n",
       "  <svg xmlns=\"http://www.w3.org/2000/svg\" height=\"24px\" viewBox=\"0 -960 960 960\">\n",
       "    <path d=\"M120-120v-720h720v720H120Zm60-500h600v-160H180v160Zm220 220h160v-160H400v160Zm0 220h160v-160H400v160ZM180-400h160v-160H180v160Zm440 0h160v-160H620v160ZM180-180h160v-160H180v160Zm440 0h160v-160H620v160Z\"/>\n",
       "  </svg>\n",
       "    </button>\n",
       "\n",
       "  <style>\n",
       "    .colab-df-container {\n",
       "      display:flex;\n",
       "      gap: 12px;\n",
       "    }\n",
       "\n",
       "    .colab-df-convert {\n",
       "      background-color: #E8F0FE;\n",
       "      border: none;\n",
       "      border-radius: 50%;\n",
       "      cursor: pointer;\n",
       "      display: none;\n",
       "      fill: #1967D2;\n",
       "      height: 32px;\n",
       "      padding: 0 0 0 0;\n",
       "      width: 32px;\n",
       "    }\n",
       "\n",
       "    .colab-df-convert:hover {\n",
       "      background-color: #E2EBFA;\n",
       "      box-shadow: 0px 1px 2px rgba(60, 64, 67, 0.3), 0px 1px 3px 1px rgba(60, 64, 67, 0.15);\n",
       "      fill: #174EA6;\n",
       "    }\n",
       "\n",
       "    .colab-df-buttons div {\n",
       "      margin-bottom: 4px;\n",
       "    }\n",
       "\n",
       "    [theme=dark] .colab-df-convert {\n",
       "      background-color: #3B4455;\n",
       "      fill: #D2E3FC;\n",
       "    }\n",
       "\n",
       "    [theme=dark] .colab-df-convert:hover {\n",
       "      background-color: #434B5C;\n",
       "      box-shadow: 0px 1px 3px 1px rgba(0, 0, 0, 0.15);\n",
       "      filter: drop-shadow(0px 1px 2px rgba(0, 0, 0, 0.3));\n",
       "      fill: #FFFFFF;\n",
       "    }\n",
       "  </style>\n",
       "\n",
       "    <script>\n",
       "      const buttonEl =\n",
       "        document.querySelector('#df-62f82cd6-c9c8-43b1-8a2b-d4a9ff2e67b0 button.colab-df-convert');\n",
       "      buttonEl.style.display =\n",
       "        google.colab.kernel.accessAllowed ? 'block' : 'none';\n",
       "\n",
       "      async function convertToInteractive(key) {\n",
       "        const element = document.querySelector('#df-62f82cd6-c9c8-43b1-8a2b-d4a9ff2e67b0');\n",
       "        const dataTable =\n",
       "          await google.colab.kernel.invokeFunction('convertToInteractive',\n",
       "                                                    [key], {});\n",
       "        if (!dataTable) return;\n",
       "\n",
       "        const docLinkHtml = 'Like what you see? Visit the ' +\n",
       "          '<a target=\"_blank\" href=https://colab.research.google.com/notebooks/data_table.ipynb>data table notebook</a>'\n",
       "          + ' to learn more about interactive tables.';\n",
       "        element.innerHTML = '';\n",
       "        dataTable['output_type'] = 'display_data';\n",
       "        await google.colab.output.renderOutput(dataTable, element);\n",
       "        const docLink = document.createElement('div');\n",
       "        docLink.innerHTML = docLinkHtml;\n",
       "        element.appendChild(docLink);\n",
       "      }\n",
       "    </script>\n",
       "  </div>\n",
       "\n",
       "\n",
       "    </div>\n",
       "  </div>\n"
      ],
      "text/plain": [
       "          Our Implementation  Sklearn's Implementation\n",
       "Accuracy            0.977778                  0.977778"
      ]
     },
     "execution_count": 78,
     "metadata": {},
     "output_type": "execute_result"
    }
   ],
   "source": [
    "if isinstance(X, pd.DataFrame):\n",
    "    X = X.to_numpy()\n",
    "    y = y.to_numpy()\n",
    "\n",
    "X_train, X_test, y_train, y_test = train_test_split(\\\n",
    "                X, y, test_size=0.25,stratify=y, random_state=45)\n",
    "\n",
    "\n",
    "\n",
    "our_classifier = KNearestNeighbors(X_train, y_train, n_neighbors=8)\n",
    "sklearn_classifier = KNeighborsClassifier(n_neighbors=8).fit(X_train, y_train)\n",
    "\n",
    "our_accuracy, y_pred, y_test = our_classifier.score(X_test, y_test)\n",
    "sklearn_accuracy = sklearn_classifier.score(X_test, y_test)\n",
    "\n",
    "print(y_pred[:20], y_test[:20])\n",
    "\n",
    "pd.DataFrame([[our_accuracy, sklearn_accuracy]],\n",
    "             ['Accuracy'],\n",
    "             ['Our Implementation', 'Sklearn\\'s Implementation'])"
   ]
  },
  {
   "cell_type": "code",
   "execution_count": 79,
   "metadata": {
    "colab": {
     "base_uri": "https://localhost:8080/",
     "height": 1000
    },
    "id": "BimYZO7DrqCY",
    "outputId": "9fd3fb06-3566-4a9b-ece9-7dad7152ef71"
   },
   "outputs": [
    {
     "name": "stdout",
     "output_type": "stream",
     "text": [
      "k=2, accuracy=0.9822\n",
      "k=3, accuracy=0.9867\n",
      "k=4, accuracy=0.9889\n",
      "k=5, accuracy=0.9844\n",
      "k=6, accuracy=0.9800\n",
      "k=7, accuracy=0.9822\n",
      "k=8, accuracy=0.9778\n",
      "k=9, accuracy=0.9800\n",
      "k=10, accuracy=0.9778\n",
      "k=11, accuracy=0.9778\n"
     ]
    },
    {
     "name": "stderr",
     "output_type": "stream",
     "text": [
      "/tmp/ipython-input-1010391763.py:64: RuntimeWarning: divide by zero encountered in divide\n",
      "  inv_dist = 1 / dist\n",
      "/tmp/ipython-input-1010391763.py:66: RuntimeWarning: invalid value encountered in divide\n",
      "  mean_inv_dist = inv_dist / np.sum(inv_dist, axis=1)[:, np.newaxis]\n"
     ]
    },
    {
     "name": "stdout",
     "output_type": "stream",
     "text": [
      "k=2, accuracy=0.2289\n",
      "k=3, accuracy=0.2333\n",
      "k=4, accuracy=0.2289\n",
      "k=5, accuracy=0.2267\n",
      "k=6, accuracy=0.2267\n",
      "k=7, accuracy=0.2222\n",
      "k=8, accuracy=0.2178\n",
      "k=9, accuracy=0.2111\n",
      "k=10, accuracy=0.2111\n",
      "k=11, accuracy=0.2111\n"
     ]
    },
    {
     "data": {
      "image/png": "[encoded data removed]",
      "text/plain": [
       "<Figure size 640x480 with 1 Axes>"
      ]
     },
     "metadata": {},
     "output_type": "display_data"
    },
    {
     "data": {
      "text/plain": [
       "[0.2288888888888889,\n",
       " 0.23333333333333334,\n",
       " 0.2288888888888889,\n",
       " 0.22666666666666666,\n",
       " 0.22666666666666666,\n",
       " 0.2222222222222222,\n",
       " 0.21777777777777776,\n",
       " 0.2111111111111111,\n",
       " 0.2111111111111111,\n",
       " 0.2111111111111111]"
      ]
     },
     "execution_count": 79,
     "metadata": {},
     "output_type": "execute_result"
    }
   ],
   "source": [
    "def evaluate_k_range(k_values=range(2,12), weights=\"uniform\", show=False):\n",
    "    accuracies = []\n",
    "\n",
    "    for k in k_values:\n",
    "        if weights == \"distance\":\n",
    "            model = KNearestNeighbors(X_train, y_train, n_neighbors=k, weights=\"distance\")\n",
    "            acc, _, _ = model.score(X_test, y_test)\n",
    "        elif weights == \"uniform\":\n",
    "            model = KNearestNeighbors(X_train, y_train, n_neighbors=k, weights=\"uniform\")\n",
    "            acc, _, _ = model.score(X_test, y_test)\n",
    "        else:\n",
    "            model = KNeighborsClassifier(n_neighbors=8).fit(X_train, y_train)\n",
    "            acc = model.score(X_test, y_test)\n",
    "\n",
    "        accuracies.append(acc)\n",
    "        print(f\"k={k}, accuracy={acc:.4f}\")\n",
    "\n",
    "    # No plt.figure() para que los gráficos se acumulen\n",
    "    plt.plot(k_values, accuracies, marker='o', label=f\"weights={weights}\")\n",
    "\n",
    "    plt.xlabel(\"Número de vecinos (k)\")\n",
    "    plt.ylabel(\"Accuracy\")\n",
    "    plt.title(\"Accuracy vs k\")\n",
    "    plt.grid(True)\n",
    "    plt.legend()\n",
    "\n",
    "    if show:\n",
    "        plt.show()\n",
    "\n",
    "    return accuracies\n",
    "\n",
    "evaluate_k_range(weights=\"uniform\")\n",
    "evaluate_k_range(weights=\"distance\", show=True)\n"
   ]
  },
  {
   "cell_type": "code",
   "execution_count": 80,
   "metadata": {
    "colab": {
     "base_uri": "https://localhost:8080/",
     "height": 1000
    },
    "id": "O19QsD_uAObb",
    "outputId": "630e82f0-128b-4e7b-a240-1f301dc0d333"
   },
   "outputs": [
    {
     "name": "stdout",
     "output_type": "stream",
     "text": [
      "k=2, accuracy=0.9778\n",
      "k=3, accuracy=0.9778\n",
      "k=4, accuracy=0.9778\n",
      "k=5, accuracy=0.9778\n",
      "k=6, accuracy=0.9778\n",
      "k=7, accuracy=0.9778\n",
      "k=8, accuracy=0.9778\n",
      "k=9, accuracy=0.9778\n",
      "k=10, accuracy=0.9778\n",
      "k=11, accuracy=0.9778\n"
     ]
    },
    {
     "name": "stderr",
     "output_type": "stream",
     "text": [
      "/tmp/ipython-input-1010391763.py:64: RuntimeWarning: divide by zero encountered in divide\n",
      "  inv_dist = 1 / dist\n",
      "/tmp/ipython-input-1010391763.py:66: RuntimeWarning: invalid value encountered in divide\n",
      "  mean_inv_dist = inv_dist / np.sum(inv_dist, axis=1)[:, np.newaxis]\n"
     ]
    },
    {
     "name": "stdout",
     "output_type": "stream",
     "text": [
      "k=2, accuracy=0.2289\n",
      "k=3, accuracy=0.2333\n",
      "k=4, accuracy=0.2289\n",
      "k=5, accuracy=0.2267\n",
      "k=6, accuracy=0.2267\n",
      "k=7, accuracy=0.2222\n",
      "k=8, accuracy=0.2178\n",
      "k=9, accuracy=0.2111\n",
      "k=10, accuracy=0.2111\n",
      "k=11, accuracy=0.2111\n"
     ]
    },
    {
     "data": {
      "image/png": "[encoded data removed]",
      "text/plain": [
       "<Figure size 640x480 with 1 Axes>"
      ]
     },
     "metadata": {},
     "output_type": "display_data"
    },
    {
     "data": {
      "text/plain": [
       "[0.2288888888888889,\n",
       " 0.23333333333333334,\n",
       " 0.2288888888888889,\n",
       " 0.22666666666666666,\n",
       " 0.22666666666666666,\n",
       " 0.2222222222222222,\n",
       " 0.21777777777777776,\n",
       " 0.2111111111111111,\n",
       " 0.2111111111111111,\n",
       " 0.2111111111111111]"
      ]
     },
     "execution_count": 80,
     "metadata": {},
     "output_type": "execute_result"
    }
   ],
   "source": [
    "evaluate_k_range(weights=\"sklearn\")\n",
    "evaluate_k_range(weights=\"distance\", show=True)"
   ]
  },
  {
   "cell_type": "markdown",
   "metadata": {
    "id": "lvmVBWl4EXOl"
   },
   "source": [
    "Tabla comparativa de sklearn vs distance segun los valores de k"
   ]
  },
  {
   "cell_type": "markdown",
   "metadata": {
    "id": "nA7xey8LEQAg"
   },
   "source": [
    "![image.png](data:image/png;base64,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)"
   ]
  },
  {
   "cell_type": "markdown",
   "metadata": {},
   "source": [
    "# Predicción de imágenes desde archivos .r8\n",
    "\n",
    "Ahora vamos a leer los archivos .r8 y usar nuestro modelo entrenado para predecir qué dígitos representan."
   ]
  },
  {
   "cell_type": "code",
   "execution_count": null,
   "metadata": {},
   "outputs": [],
   "source": [
    "# Función para leer archivos .r8 (8x8 pixels, 8-bit format)\n",
    "def read_r8_file(filename):\n",
    "    \"\"\"\n",
    "    Lee un archivo .r8 que contiene una imagen 8x8 en formato de 8 bits\n",
    "    \"\"\"\n",
    "    try:\n",
    "        with open(filename, 'rb') as f:\n",
    "            # Leer 64 bytes (8x8 pixels)\n",
    "            data = f.read(64)\n",
    "            if len(data) != 64:\n",
    "                raise ValueError(f\"El archivo {filename} no tiene el tamaño esperado (64 bytes)\")\n",
    "            \n",
    "            # Convertir a array numpy y reshapear a 8x8\n",
    "            image = np.frombuffer(data, dtype=np.uint8).reshape(8, 8)\n",
    "            return image\n",
    "    except Exception as e:\n",
    "        print(f\"Error leyendo {filename}: {e}\")\n",
    "        return None\n",
    "\n",
    "# Función para mostrar una imagen 8x8\n",
    "def show_image(image, title=\"\", predicted_label=None):\n",
    "    plt.figure(figsize=(3, 3))\n",
    "    plt.imshow(image, cmap='gray', interpolation='nearest')\n",
    "    if predicted_label is not None:\n",
    "        plt.title(f\"{title}\\nPredicción: {predicted_label}\")\n",
    "    else:\n",
    "        plt.title(title)\n",
    "    plt.axis('off')\n",
    "    plt.show()"
   ]
  },
  {
   "cell_type": "code",
   "execution_count": null,
   "metadata": {},
   "outputs": [
    {
     "name": "stdout",
     "output_type": "stream",
     "text": [
      "Leyendo archivos .r8...\n",
      "✓ 1.r8 leído correctamente\n"
     ]
    },
    {
     "data": {
      "image/png": "[encoded data removed]",
      "text/plain": [
       "<Figure size 300x300 with 1 Axes>"
      ]
     },
     "metadata": {},
     "output_type": "display_data"
    },
    {
     "name": "stdout",
     "output_type": "stream",
     "text": [
      "✓ 3.r8 leído correctamente\n"
     ]
    },
    {
     "data": {
      "image/png": "[encoded data removed]",
      "text/plain": [
       "<Figure size 300x300 with 1 Axes>"
      ]
     },
     "metadata": {},
     "output_type": "display_data"
    },
    {
     "name": "stdout",
     "output_type": "stream",
     "text": [
      "✓ 5.r8 leído correctamente\n"
     ]
    },
    {
     "data": {
      "image/png": "[encoded data removed]",
      "text/plain": [
       "<Figure size 300x300 with 1 Axes>"
      ]
     },
     "metadata": {},
     "output_type": "display_data"
    },
    {
     "name": "stdout",
     "output_type": "stream",
     "text": [
      "✓ 7.r8 leído correctamente\n"
     ]
    },
    {
     "data": {
      "image/png": "[encoded data removed]",
      "text/plain": [
       "<Figure size 300x300 with 1 Axes>"
      ]
     },
     "metadata": {},
     "output_type": "display_data"
    },
    {
     "name": "stdout",
     "output_type": "stream",
     "text": [
      "✓ 9.r8 leído correctamente\n"
     ]
    },
    {
     "data": {
      "image/png": "[encoded data removed]",
      "text/plain": [
       "<Figure size 300x300 with 1 Axes>"
      ]
     },
     "metadata": {},
     "output_type": "display_data"
    },
    {
     "name": "stdout",
     "output_type": "stream",
     "text": [
      "\n",
      "Total de imágenes leídas: 5\n"
     ]
    }
   ],
   "source": [
    "# Leer todos los archivos .r8\n",
    "archivos_r8 = ['1.r8', '3.r8', '5.r8', '7.r8', '9.r8']\n",
    "imagenes_r8 = []\n",
    "nombres_archivos = []\n",
    "\n",
    "print(\"Leyendo archivos .r8...\")\n",
    "for archivo in archivos_r8:\n",
    "    imagen = read_r8_file(archivo)\n",
    "    if imagen is not None:\n",
    "        imagenes_r8.append(imagen)\n",
    "        nombres_archivos.append(archivo)\n",
    "        print(f\"✓ {archivo} leído correctamente\")\n",
    "        # Mostrar la imagen\n",
    "        show_image(imagen, f\"Archivo: {archivo}\")\n",
    "    else:\n",
    "        print(f\"✗ Error leyendo {archivo}\")\n",
    "\n",
    "print(f\"\\nTotal de imágenes leídas: {len(imagenes_r8)}\")"
   ]
  },
  {
   "cell_type": "code",
   "execution_count": null,
   "metadata": {},
   "outputs": [
    {
     "name": "stdout",
     "output_type": "stream",
     "text": [
      "Forma de los datos para predicción: (5, 64)\n",
      "Rango de valores: [0, 255]\n",
      "Rango de datos de entrenamiento: [0.00, 16.00]\n",
      "Datos normalizados. Nuevo rango: [0.00, 16.00]\n"
     ]
    }
   ],
   "source": [
    "# Preparar las imágenes para predicción\n",
    "if len(imagenes_r8) > 0:\n",
    "    # Convertir las imágenes a formato plano (64 features por imagen)\n",
    "    imagenes_planas = []\n",
    "    for img in imagenes_r8:\n",
    "        # Aplanar la imagen de 8x8 a un vector de 64 elementos\n",
    "        img_plana = img.flatten()\n",
    "        imagenes_planas.append(img_plana)\n",
    "    \n",
    "    # Convertir a array numpy\n",
    "    X_nuevas = np.array(imagenes_planas)\n",
    "    \n",
    "    print(f\"Forma de los datos para predicción: {X_nuevas.shape}\")\n",
    "    print(f\"Rango de valores: [{X_nuevas.min()}, {X_nuevas.max()}]\")\n",
    "    \n",
    "    # Normalizar los datos si es necesario (los datos de digits están normalizados)\n",
    "    # Verificar si necesitamos normalizar comparando con el rango de los datos de entrenamiento\n",
    "    print(f\"Rango de datos de entrenamiento: [{X_train.min():.2f}, {X_train.max():.2f}]\")\n",
    "    \n",
    "    # Si los valores están en 0-255, normalizar a 0-16 como los datos originales\n",
    "    if X_nuevas.max() > 16:\n",
    "        X_nuevas = X_nuevas * (16.0 / 255.0)\n",
    "        print(f\"Datos normalizados. Nuevo rango: [{X_nuevas.min():.2f}, {X_nuevas.max():.2f}]\")\n",
    "else:\n",
    "    print(\"No se pudieron leer imágenes para hacer predicciones\")"
   ]
  },
  {
   "cell_type": "code",
   "execution_count": null,
   "metadata": {},
   "outputs": [
    {
     "name": "stdout",
     "output_type": "stream",
     "text": [
      "=== PREDICCIONES ===\n",
      "\n",
      "Archivo\t\tNuestra Impl.\tSklearn\n",
      "----------------------------------------\n",
      "1.r8\t\t1\t\t1\n",
      "3.r8\t\t9\t\t9\n",
      "5.r8\t\t5\t\t5\n",
      "7.r8\t\t7\t\t7\n",
      "9.r8\t\t9\t\t9\n",
      "\n",
      "=== COMPARACIÓN DE PREDICCIONES ===\n",
      "Predicciones coincidentes: 5/5\n",
      "✓ Ambos modelos dan las mismas predicciones\n"
     ]
    }
   ],
   "source": [
    "# Hacer predicciones con ambos modelos (nuestro implementación y sklearn)\n",
    "if len(imagenes_r8) > 0:\n",
    "    print(\"=== PREDICCIONES ===\\n\")\n",
    "    \n",
    "    # Predicciones con nuestra implementación\n",
    "    our_predictions = our_classifier.predict(X_nuevas)\n",
    "    \n",
    "    # Predicciones con sklearn\n",
    "    sklearn_predictions = sklearn_classifier.predict(X_nuevas)\n",
    "    \n",
    "    # Mostrar resultados\n",
    "    print(\"Archivo\\t\\tNuestra Impl.\\tSklearn\")\n",
    "    print(\"-\" * 40)\n",
    "    for i, (archivo, pred_our, pred_sklearn) in enumerate(zip(nombres_archivos, our_predictions, sklearn_predictions)):\n",
    "        print(f\"{archivo}\\t\\t{pred_our}\\t\\t{pred_sklearn}\")\n",
    "    \n",
    "    print(f\"\\n=== COMPARACIÓN DE PREDICCIONES ===\")\n",
    "    coincidencias = sum(our_predictions == sklearn_predictions)\n",
    "    print(f\"Predicciones coincidentes: {coincidencias}/{len(our_predictions)}\")\n",
    "    \n",
    "    if coincidencias == len(our_predictions):\n",
    "        print(\"✓ Ambos modelos dan las mismas predicciones\")\n",
    "    else:\n",
    "        print(\"⚠ Hay diferencias entre los modelos\")\n",
    "        for i, (archivo, pred_our, pred_sklearn) in enumerate(zip(nombres_archivos, our_predictions, sklearn_predictions)):\n",
    "            if pred_our != pred_sklearn:\n",
    "                print(f\"  - {archivo}: Nuestra={pred_our}, Sklearn={pred_sklearn}\")\n",
    "else:\n",
    "    print(\"No hay imágenes cargadas para hacer predicciones\")"
   ]
  },
  {
   "cell_type": "code",
   "execution_count": null,
   "metadata": {},
   "outputs": [
    {
     "name": "stdout",
     "output_type": "stream",
     "text": [
      "\n",
      "=== VISUALIZACIÓN DE PREDICCIONES ===\n"
     ]
    },
    {
     "data": {
      "image/png": "[encoded data removed]",
      "text/plain": [
       "<Figure size 1500x300 with 5 Axes>"
      ]
     },
     "metadata": {},
     "output_type": "display_data"
    },
    {
     "name": "stdout",
     "output_type": "stream",
     "text": [
      "\n",
      "=== IMÁGENES INDIVIDUALES ===\n",
      "\n",
      "1.r8:\n",
      "  Predicción (Nuestra implementación): 1\n",
      "  Predicción (Sklearn): 1\n"
     ]
    },
    {
     "data": {
      "image/png": "[encoded data removed]",
      "text/plain": [
       "<Figure size 300x300 with 1 Axes>"
      ]
     },
     "metadata": {},
     "output_type": "display_data"
    },
    {
     "name": "stdout",
     "output_type": "stream",
     "text": [
      "\n",
      "3.r8:\n",
      "  Predicción (Nuestra implementación): 9\n",
      "  Predicción (Sklearn): 9\n"
     ]
    },
    {
     "data": {
      "image/png": "[encoded data removed]",
      "text/plain": [
       "<Figure size 300x300 with 1 Axes>"
      ]
     },
     "metadata": {},
     "output_type": "display_data"
    },
    {
     "name": "stdout",
     "output_type": "stream",
     "text": [
      "\n",
      "5.r8:\n",
      "  Predicción (Nuestra implementación): 5\n",
      "  Predicción (Sklearn): 5\n"
     ]
    },
    {
     "data": {
      "image/png": "[encoded data removed]",
      "text/plain": [
       "<Figure size 300x300 with 1 Axes>"
      ]
     },
     "metadata": {},
     "output_type": "display_data"
    },
    {
     "name": "stdout",
     "output_type": "stream",
     "text": [
      "\n",
      "7.r8:\n",
      "  Predicción (Nuestra implementación): 7\n",
      "  Predicción (Sklearn): 7\n"
     ]
    },
    {
     "data": {
      "image/png": "[encoded data removed]",
      "text/plain": [
       "<Figure size 300x300 with 1 Axes>"
      ]
     },
     "metadata": {},
     "output_type": "display_data"
    },
    {
     "name": "stdout",
     "output_type": "stream",
     "text": [
      "\n",
      "9.r8:\n",
      "  Predicción (Nuestra implementación): 9\n",
      "  Predicción (Sklearn): 9\n"
     ]
    },
    {
     "data": {
      "image/png": "[encoded data removed]",
      "text/plain": [
       "<Figure size 300x300 with 1 Axes>"
      ]
     },
     "metadata": {},
     "output_type": "display_data"
    }
   ],
   "source": [
    "# Mostrar las imágenes con sus predicciones\n",
    "if len(imagenes_r8) > 0:\n",
    "    print(\"\\n=== VISUALIZACIÓN DE PREDICCIONES ===\")\n",
    "    \n",
    "    # Crear una figura con todas las imágenes y sus predicciones\n",
    "    fig, axes = plt.subplots(1, len(imagenes_r8), figsize=(15, 3))\n",
    "    \n",
    "    if len(imagenes_r8) == 1:\n",
    "        axes = [axes]  # Asegurar que axes sea iterable\n",
    "    \n",
    "    for i, (img, archivo, pred_our, pred_sklearn) in enumerate(zip(imagenes_r8, nombres_archivos, our_predictions, sklearn_predictions)):\n",
    "        axes[i].imshow(img, cmap='gray', interpolation='nearest')\n",
    "        axes[i].set_title(f\"{archivo}\\nNuestra: {pred_our}\\nSklearn: {pred_sklearn}\", fontsize=10)\n",
    "        axes[i].axis('off')\n",
    "    \n",
    "    plt.tight_layout()\n",
    "    plt.show()\n",
    "    \n",
    "    # Mostrar también individualmente para mejor visualización\n",
    "    print(\"\\n=== IMÁGENES INDIVIDUALES ===\")\n",
    "    for i, (img, archivo, pred_our, pred_sklearn) in enumerate(zip(imagenes_r8, nombres_archivos, our_predictions, sklearn_predictions)):\n",
    "        print(f\"\\n{archivo}:\")\n",
    "        print(f\"  Predicción (Nuestra implementación): {pred_our}\")\n",
    "        print(f\"  Predicción (Sklearn): {pred_sklearn}\")\n",
    "        show_image(img, f\"Archivo: {archivo}\", f\"Nuestra: {pred_our}, Sklearn: {pred_sklearn}\")\n",
    "else:\n",
    "    print(\"No hay imágenes para mostrar\")"
   ]
  },
  {
   "cell_type": "markdown",
   "metadata": {
    "id": "dbt4HBkeWpU5"
   },
   "source": [
    "# K-Nearest Neighbors Classification with chebyshev_modified_distance\n",
    "\n"
   ]
  },
  {
   "cell_type": "code",
   "execution_count": 19,
   "metadata": {
    "id": "0ZmNBejAWpU8"
   },
   "outputs": [],
   "source": [
    "import numpy as np\n"
   ]
  },
  {
   "cell_type": "code",
   "execution_count": 20,
   "metadata": {
    "id": "vXRr2wlZWpU-"
   },
   "outputs": [],
   "source": [
    "a = np.random.rand(3,4)"
   ]
  },
  {
   "cell_type": "code",
   "execution_count": 21,
   "metadata": {
    "colab": {
     "base_uri": "https://localhost:8080/"
    },
    "id": "ZGJqn2CxWpU-",
    "outputId": "bc23a5ad-76a9-4608-d525-bff5140fd73a"
   },
   "outputs": [
    {
     "data": {
      "text/plain": [
       "array([[0.35354636, 0.51563944, 0.38773394, 0.01433638],\n",
       "       [0.64188844, 0.32119377, 0.63402483, 0.49365939],\n",
       "       [0.83432815, 0.04726581, 0.62881113, 0.90724544]])"
      ]
     },
     "execution_count": 21,
     "metadata": {},
     "output_type": "execute_result"
    }
   ],
   "source": [
    "a"
   ]
  },
  {
   "cell_type": "code",
   "execution_count": 21,
   "metadata": {
    "id": "rZKVVti4qDXr"
   },
   "outputs": [],
   "source": []
  },
  {
   "cell_type": "code",
   "execution_count": 22,
   "metadata": {
    "id": "Xf9Z1bNvWpVA"
   },
   "outputs": [],
   "source": [
    "# res = 0\n",
    "# for j in range(D):\n",
    "#     res += (a[j] - b[j])**2\n",
    "# sqrt(res)\n",
    "\n",
    "\n",
    "def chebyshev_modified_distance(a, b):\n",
    "    return np.median(np.abs(a - b),axis=1)"
   ]
  },
  {
   "cell_type": "code",
   "execution_count": 23,
   "metadata": {
    "colab": {
     "base_uri": "https://localhost:8080/"
    },
    "id": "b2ms6RpHWpVB",
    "outputId": "2a5c83f3-dd35-4247-d9de-d30a3d2a7a93"
   },
   "outputs": [
    {
     "name": "stdout",
     "output_type": "stream",
     "text": [
      "[[0.61910272 0.56600822]]\n",
      "[[0.75356756 0.68095293]]\n"
     ]
    },
    {
     "data": {
      "text/plain": [
       "array([0.12470478])"
      ]
     },
     "execution_count": 23,
     "metadata": {},
     "output_type": "execute_result"
    }
   ],
   "source": [
    "x = np.random.rand(1, 2)\n",
    "y = np.random.rand(1, 2)\n",
    "print(x)\n",
    "print(y)\n",
    "chebyshev_modified_distance(x, y)"
   ]
  },
  {
   "cell_type": "code",
   "execution_count": 24,
   "metadata": {
    "id": "yA6At9lzWpVC"
   },
   "outputs": [],
   "source": [
    "def score(X_test, y_test):\n",
    "    y_pred = predict(X_test)\n",
    "\n",
    "    return float(sum(y_pred == y_test))/ float(len(y_test))"
   ]
  },
  {
   "cell_type": "code",
   "execution_count": 25,
   "metadata": {
    "id": "54sWabhiWpVD"
   },
   "outputs": [],
   "source": [
    "class KNearestNeighbors():\n",
    "    def __init__(self, X_train, y_train, n_neighbors=5, weights='uniform'):\n",
    "\n",
    "        self.X_train = X_train\n",
    "        self.y_train = y_train\n",
    "\n",
    "        self.n_neighbors = n_neighbors\n",
    "        self.weights = weights\n",
    "\n",
    "        self.n_classes = 3\n",
    "\n",
    "    def chebyshev_modified_distance(self, a, b):\n",
    "        return np.median(np.abs(a - b),axis=1)\n",
    "\n",
    "    def euclidian_distance(self, a, b):\n",
    "        return np.sqrt(np.sum((a-b)**2, axis=1))\n",
    "\n",
    "    def kneighbors(self, X_test, return_distance=False):\n",
    "\n",
    "        dist = []\n",
    "        neigh_ind = []\n",
    "\n",
    "#         print(X_test, self.X_train. X_test, self.X_train)\n",
    "        point_dist = []\n",
    "\n",
    "        if return_distance:\n",
    "            for x_test in X_test:\n",
    "                point_dist += [ self.chebyshev_modified_distance(x_test, self.X_train) ]\n",
    "        else:\n",
    "            for x_test in X_test:\n",
    "                point_dist += [ self.euclidian_distance(x_test, self.X_train) ]\n",
    "\n",
    "        for row in point_dist:\n",
    "            enum_neigh = enumerate(row)\n",
    "            sorted_neigh = sorted(enum_neigh,\n",
    "                                  key=lambda x: x[1])[:self.n_neighbors]\n",
    "\n",
    "            ind_list = [tup[0] for tup in sorted_neigh]\n",
    "            dist_list = [tup[1] for tup in sorted_neigh]\n",
    "\n",
    "            dist.append(dist_list)\n",
    "            neigh_ind.append(ind_list)\n",
    "\n",
    "        if return_distance:\n",
    "            return np.array(dist), np.array(neigh_ind)\n",
    "\n",
    "        return np.array(neigh_ind)\n",
    "\n",
    "    def predict(self, X_test):\n",
    "\n",
    "        if self.weights == 'uniform':\n",
    "            neighbors = self.kneighbors(X_test)\n",
    "            y_pred = np.array([\n",
    "                np.argmax(np.bincount(self.y_train[neighbor]))\n",
    "                for neighbor in neighbors\n",
    "            ])\n",
    "            #print(\"Y_pred: \", y_pred)\n",
    "            return y_pred\n",
    "\n",
    "        if self.weights == 'distance':\n",
    "\n",
    "            dist, neigh_ind = self.kneighbors(X_test, return_distance=True)\n",
    "\n",
    "            inv_dist = 1 / dist\n",
    "\n",
    "            mean_inv_dist = inv_dist / np.sum(inv_dist, axis=1)[:, np.newaxis]\n",
    "#             print(mean_inv_dist.shape)\n",
    "\n",
    "            proba = []\n",
    "\n",
    "            for i, row in enumerate(mean_inv_dist):\n",
    "\n",
    "                row_pred = self.y_train[neigh_ind[i]]\n",
    "\n",
    "                for k in range(self.n_classes):\n",
    "                    indices = np.where(row_pred == k)\n",
    "                    prob_ind = np.sum(row[indices])\n",
    "                    proba.append(np.array(prob_ind))\n",
    "\n",
    "            predict_proba = np.array(proba).reshape(X_test.shape[0],\n",
    "                                                    self.n_classes)\n",
    "\n",
    "            y_pred = np.array([np.argmax(item) for item in predict_proba])\n",
    "\n",
    "            return y_pred\n",
    "\n",
    "    def score(self, X_test, y_test):\n",
    "        y_pred = self.predict(X_test)\n",
    "        return float(sum(y_pred == y_test)) / float(len(y_test)), y_pred, y_test\n"
   ]
  },
  {
   "cell_type": "markdown",
   "metadata": {
    "id": "S1fNydNGWpVE"
   },
   "source": [
    "# Iris dataset (Observations/Treatments)"
   ]
  },
  {
   "cell_type": "code",
   "execution_count": 26,
   "metadata": {
    "id": "R4xZN1E6WpVF"
   },
   "outputs": [],
   "source": [
    "import sklearn.datasets as datasets\n",
    "from sklearn.model_selection import train_test_split\n",
    "from sklearn.neighbors import KNeighborsClassifier\n",
    "import pandas as pd\n",
    "from matplotlib import pyplot as plt\n",
    "dataset = datasets.load_iris(as_frame=True)\n",
    "\n",
    "X = dataset.data\n",
    "y = dataset.target\n"
   ]
  },
  {
   "cell_type": "code",
   "execution_count": 27,
   "metadata": {
    "colab": {
     "base_uri": "https://localhost:8080/",
     "height": 676
    },
    "id": "ZRLehDYdWpVG",
    "outputId": "98163908-971b-49d8-ce3d-9128a1f83335"
   },
   "outputs": [
    {
     "data": {
      "application/vnd.google.colaboratory.intrinsic+json": {
       "summary": "{\n  \"name\": \"X\",\n  \"rows\": 150,\n  \"fields\": [\n    {\n      \"column\": \"sepal length (cm)\",\n      \"properties\": {\n        \"dtype\": \"number\",\n        \"std\": 0.8280661279778629,\n        \"min\": 4.3,\n        \"max\": 7.9,\n        \"num_unique_values\": 35,\n        \"samples\": [\n          6.2,\n          4.5,\n          5.6\n        ],\n        \"semantic_type\": \"\",\n        \"description\": \"\"\n      }\n    },\n    {\n      \"column\": \"sepal width (cm)\",\n      \"properties\": {\n        \"dtype\": \"number\",\n        \"std\": 0.435866284936698,\n        \"min\": 2.0,\n        \"max\": 4.4,\n        \"num_unique_values\": 23,\n        \"samples\": [\n          2.3,\n          4.0,\n          3.5\n        ],\n        \"semantic_type\": \"\",\n        \"description\": \"\"\n      }\n    },\n    {\n      \"column\": \"petal length (cm)\",\n      \"properties\": {\n        \"dtype\": \"number\",\n        \"std\": 1.7652982332594667,\n        \"min\": 1.0,\n        \"max\": 6.9,\n        \"num_unique_values\": 43,\n        \"samples\": [\n          6.7,\n          3.8,\n          3.7\n        ],\n        \"semantic_type\": \"\",\n        \"description\": \"\"\n      }\n    },\n    {\n      \"column\": \"petal width (cm)\",\n      \"properties\": {\n        \"dtype\": \"number\",\n        \"std\": 0.7622376689603465,\n        \"min\": 0.1,\n        \"max\": 2.5,\n        \"num_unique_values\": 22,\n        \"samples\": [\n          0.2,\n          1.2,\n          1.3\n        ],\n        \"semantic_type\": \"\",\n        \"description\": \"\"\n      }\n    }\n  ]\n}",
       "type": "dataframe",
       "variable_name": "X"
      },
      "text/html": [
       "\n",
       "  <div id=\"df-af8cb4ef-bc68-4c96-81ee-e3954c67d1f7\" class=\"colab-df-container\">\n",
       "    <div>\n",
       "<style scoped>\n",
       "    .dataframe tbody tr th:only-of-type {\n",
       "        vertical-align: middle;\n",
       "    }\n",
       "\n",
       "    .dataframe tbody tr th {\n",
       "        vertical-align: top;\n",
       "    }\n",
       "\n",
       "    .dataframe thead th {\n",
       "        text-align: right;\n",
       "    }\n",
       "</style>\n",
       "<table border=\"1\" class=\"dataframe\">\n",
       "  <thead>\n",
       "    <tr style=\"text-align: right;\">\n",
       "      <th></th>\n",
       "      <th>sepal length (cm)</th>\n",
       "      <th>sepal width (cm)</th>\n",
       "      <th>petal length (cm)</th>\n",
       "      <th>petal width (cm)</th>\n",
       "    </tr>\n",
       "  </thead>\n",
       "  <tbody>\n",
       "    <tr>\n",
       "      <th>0</th>\n",
       "      <td>5.1</td>\n",
       "      <td>3.5</td>\n",
       "      <td>1.4</td>\n",
       "      <td>0.2</td>\n",
       "    </tr>\n",
       "    <tr>\n",
       "      <th>1</th>\n",
       "      <td>4.9</td>\n",
       "      <td>3.0</td>\n",
       "      <td>1.4</td>\n",
       "      <td>0.2</td>\n",
       "    </tr>\n",
       "    <tr>\n",
       "      <th>2</th>\n",
       "      <td>4.7</td>\n",
       "      <td>3.2</td>\n",
       "      <td>1.3</td>\n",
       "      <td>0.2</td>\n",
       "    </tr>\n",
       "    <tr>\n",
       "      <th>3</th>\n",
       "      <td>4.6</td>\n",
       "      <td>3.1</td>\n",
       "      <td>1.5</td>\n",
       "      <td>0.2</td>\n",
       "    </tr>\n",
       "    <tr>\n",
       "      <th>4</th>\n",
       "      <td>5.0</td>\n",
       "      <td>3.6</td>\n",
       "      <td>1.4</td>\n",
       "      <td>0.2</td>\n",
       "    </tr>\n",
       "    <tr>\n",
       "      <th>5</th>\n",
       "      <td>5.4</td>\n",
       "      <td>3.9</td>\n",
       "      <td>1.7</td>\n",
       "      <td>0.4</td>\n",
       "    </tr>\n",
       "    <tr>\n",
       "      <th>6</th>\n",
       "      <td>4.6</td>\n",
       "      <td>3.4</td>\n",
       "      <td>1.4</td>\n",
       "      <td>0.3</td>\n",
       "    </tr>\n",
       "    <tr>\n",
       "      <th>7</th>\n",
       "      <td>5.0</td>\n",
       "      <td>3.4</td>\n",
       "      <td>1.5</td>\n",
       "      <td>0.2</td>\n",
       "    </tr>\n",
       "    <tr>\n",
       "      <th>8</th>\n",
       "      <td>4.4</td>\n",
       "      <td>2.9</td>\n",
       "      <td>1.4</td>\n",
       "      <td>0.2</td>\n",
       "    </tr>\n",
       "    <tr>\n",
       "      <th>9</th>\n",
       "      <td>4.9</td>\n",
       "      <td>3.1</td>\n",
       "      <td>1.5</td>\n",
       "      <td>0.1</td>\n",
       "    </tr>\n",
       "    <tr>\n",
       "      <th>10</th>\n",
       "      <td>5.4</td>\n",
       "      <td>3.7</td>\n",
       "      <td>1.5</td>\n",
       "      <td>0.2</td>\n",
       "    </tr>\n",
       "    <tr>\n",
       "      <th>11</th>\n",
       "      <td>4.8</td>\n",
       "      <td>3.4</td>\n",
       "      <td>1.6</td>\n",
       "      <td>0.2</td>\n",
       "    </tr>\n",
       "    <tr>\n",
       "      <th>12</th>\n",
       "      <td>4.8</td>\n",
       "      <td>3.0</td>\n",
       "      <td>1.4</td>\n",
       "      <td>0.1</td>\n",
       "    </tr>\n",
       "    <tr>\n",
       "      <th>13</th>\n",
       "      <td>4.3</td>\n",
       "      <td>3.0</td>\n",
       "      <td>1.1</td>\n",
       "      <td>0.1</td>\n",
       "    </tr>\n",
       "    <tr>\n",
       "      <th>14</th>\n",
       "      <td>5.8</td>\n",
       "      <td>4.0</td>\n",
       "      <td>1.2</td>\n",
       "      <td>0.2</td>\n",
       "    </tr>\n",
       "    <tr>\n",
       "      <th>15</th>\n",
       "      <td>5.7</td>\n",
       "      <td>4.4</td>\n",
       "      <td>1.5</td>\n",
       "      <td>0.4</td>\n",
       "    </tr>\n",
       "    <tr>\n",
       "      <th>16</th>\n",
       "      <td>5.4</td>\n",
       "      <td>3.9</td>\n",
       "      <td>1.3</td>\n",
       "      <td>0.4</td>\n",
       "    </tr>\n",
       "    <tr>\n",
       "      <th>17</th>\n",
       "      <td>5.1</td>\n",
       "      <td>3.5</td>\n",
       "      <td>1.4</td>\n",
       "      <td>0.3</td>\n",
       "    </tr>\n",
       "    <tr>\n",
       "      <th>18</th>\n",
       "      <td>5.7</td>\n",
       "      <td>3.8</td>\n",
       "      <td>1.7</td>\n",
       "      <td>0.3</td>\n",
       "    </tr>\n",
       "    <tr>\n",
       "      <th>19</th>\n",
       "      <td>5.1</td>\n",
       "      <td>3.8</td>\n",
       "      <td>1.5</td>\n",
       "      <td>0.3</td>\n",
       "    </tr>\n",
       "  </tbody>\n",
       "</table>\n",
       "</div>\n",
       "    <div class=\"colab-df-buttons\">\n",
       "\n",
       "  <div class=\"colab-df-container\">\n",
       "    <button class=\"colab-df-convert\" onclick=\"convertToInteractive('df-af8cb4ef-bc68-4c96-81ee-e3954c67d1f7')\"\n",
       "            title=\"Convert this dataframe to an interactive table.\"\n",
       "            style=\"display:none;\">\n",
       "\n",
       "  <svg xmlns=\"http://www.w3.org/2000/svg\" height=\"24px\" viewBox=\"0 -960 960 960\">\n",
       "    <path d=\"M120-120v-720h720v720H120Zm60-500h600v-160H180v160Zm220 220h160v-160H400v160Zm0 220h160v-160H400v160ZM180-400h160v-160H180v160Zm440 0h160v-160H620v160ZM180-180h160v-160H180v160Zm440 0h160v-160H620v160Z\"/>\n",
       "  </svg>\n",
       "    </button>\n",
       "\n",
       "  <style>\n",
       "    .colab-df-container {\n",
       "      display:flex;\n",
       "      gap: 12px;\n",
       "    }\n",
       "\n",
       "    .colab-df-convert {\n",
       "      background-color: #E8F0FE;\n",
       "      border: none;\n",
       "      border-radius: 50%;\n",
       "      cursor: pointer;\n",
       "      display: none;\n",
       "      fill: #1967D2;\n",
       "      height: 32px;\n",
       "      padding: 0 0 0 0;\n",
       "      width: 32px;\n",
       "    }\n",
       "\n",
       "    .colab-df-convert:hover {\n",
       "      background-color: #E2EBFA;\n",
       "      box-shadow: 0px 1px 2px rgba(60, 64, 67, 0.3), 0px 1px 3px 1px rgba(60, 64, 67, 0.15);\n",
       "      fill: #174EA6;\n",
       "    }\n",
       "\n",
       "    .colab-df-buttons div {\n",
       "      margin-bottom: 4px;\n",
       "    }\n",
       "\n",
       "    [theme=dark] .colab-df-convert {\n",
       "      background-color: #3B4455;\n",
       "      fill: #D2E3FC;\n",
       "    }\n",
       "\n",
       "    [theme=dark] .colab-df-convert:hover {\n",
       "      background-color: #434B5C;\n",
       "      box-shadow: 0px 1px 3px 1px rgba(0, 0, 0, 0.15);\n",
       "      filter: drop-shadow(0px 1px 2px rgba(0, 0, 0, 0.3));\n",
       "      fill: #FFFFFF;\n",
       "    }\n",
       "  </style>\n",
       "\n",
       "    <script>\n",
       "      const buttonEl =\n",
       "        document.querySelector('#df-af8cb4ef-bc68-4c96-81ee-e3954c67d1f7 button.colab-df-convert');\n",
       "      buttonEl.style.display =\n",
       "        google.colab.kernel.accessAllowed ? 'block' : 'none';\n",
       "\n",
       "      async function convertToInteractive(key) {\n",
       "        const element = document.querySelector('#df-af8cb4ef-bc68-4c96-81ee-e3954c67d1f7');\n",
       "        const dataTable =\n",
       "          await google.colab.kernel.invokeFunction('convertToInteractive',\n",
       "                                                    [key], {});\n",
       "        if (!dataTable) return;\n",
       "\n",
       "        const docLinkHtml = 'Like what you see? Visit the ' +\n",
       "          '<a target=\"_blank\" href=https://colab.research.google.com/notebooks/data_table.ipynb>data table notebook</a>'\n",
       "          + ' to learn more about interactive tables.';\n",
       "        element.innerHTML = '';\n",
       "        dataTable['output_type'] = 'display_data';\n",
       "        await google.colab.output.renderOutput(dataTable, element);\n",
       "        const docLink = document.createElement('div');\n",
       "        docLink.innerHTML = docLinkHtml;\n",
       "        element.appendChild(docLink);\n",
       "      }\n",
       "    </script>\n",
       "  </div>\n",
       "\n",
       "\n",
       "    <div id=\"df-009cd329-2a18-4cbb-8bfd-de9572e3701b\">\n",
       "      <button class=\"colab-df-quickchart\" onclick=\"quickchart('df-009cd329-2a18-4cbb-8bfd-de9572e3701b')\"\n",
       "                title=\"Suggest charts\"\n",
       "                style=\"display:none;\">\n",
       "\n",
       "<svg xmlns=\"http://www.w3.org/2000/svg\" height=\"24px\"viewBox=\"0 0 24 24\"\n",
       "     width=\"24px\">\n",
       "    <g>\n",
       "        <path d=\"M19 3H5c-1.1 0-2 .9-2 2v14c0 1.1.9 2 2 2h14c1.1 0 2-.9 2-2V5c0-1.1-.9-2-2-2zM9 17H7v-7h2v7zm4 0h-2V7h2v10zm4 0h-2v-4h2v4z\"/>\n",
       "    </g>\n",
       "</svg>\n",
       "      </button>\n",
       "\n",
       "<style>\n",
       "  .colab-df-quickchart {\n",
       "      --bg-color: #E8F0FE;\n",
       "      --fill-color: #1967D2;\n",
       "      --hover-bg-color: #E2EBFA;\n",
       "      --hover-fill-color: #174EA6;\n",
       "      --disabled-fill-color: #AAA;\n",
       "      --disabled-bg-color: #DDD;\n",
       "  }\n",
       "\n",
       "  [theme=dark] .colab-df-quickchart {\n",
       "      --bg-color: #3B4455;\n",
       "      --fill-color: #D2E3FC;\n",
       "      --hover-bg-color: #434B5C;\n",
       "      --hover-fill-color: #FFFFFF;\n",
       "      --disabled-bg-color: #3B4455;\n",
       "      --disabled-fill-color: #666;\n",
       "  }\n",
       "\n",
       "  .colab-df-quickchart {\n",
       "    background-color: var(--bg-color);\n",
       "    border: none;\n",
       "    border-radius: 50%;\n",
       "    cursor: pointer;\n",
       "    display: none;\n",
       "    fill: var(--fill-color);\n",
       "    height: 32px;\n",
       "    padding: 0;\n",
       "    width: 32px;\n",
       "  }\n",
       "\n",
       "  .colab-df-quickchart:hover {\n",
       "    background-color: var(--hover-bg-color);\n",
       "    box-shadow: 0 1px 2px rgba(60, 64, 67, 0.3), 0 1px 3px 1px rgba(60, 64, 67, 0.15);\n",
       "    fill: var(--button-hover-fill-color);\n",
       "  }\n",
       "\n",
       "  .colab-df-quickchart-complete:disabled,\n",
       "  .colab-df-quickchart-complete:disabled:hover {\n",
       "    background-color: var(--disabled-bg-color);\n",
       "    fill: var(--disabled-fill-color);\n",
       "    box-shadow: none;\n",
       "  }\n",
       "\n",
       "  .colab-df-spinner {\n",
       "    border: 2px solid var(--fill-color);\n",
       "    border-color: transparent;\n",
       "    border-bottom-color: var(--fill-color);\n",
       "    animation:\n",
       "      spin 1s steps(1) infinite;\n",
       "  }\n",
       "\n",
       "  @keyframes spin {\n",
       "    0% {\n",
       "      border-color: transparent;\n",
       "      border-bottom-color: var(--fill-color);\n",
       "      border-left-color: var(--fill-color);\n",
       "    }\n",
       "    20% {\n",
       "      border-color: transparent;\n",
       "      border-left-color: var(--fill-color);\n",
       "      border-top-color: var(--fill-color);\n",
       "    }\n",
       "    30% {\n",
       "      border-color: transparent;\n",
       "      border-left-color: var(--fill-color);\n",
       "      border-top-color: var(--fill-color);\n",
       "      border-right-color: var(--fill-color);\n",
       "    }\n",
       "    40% {\n",
       "      border-color: transparent;\n",
       "      border-right-color: var(--fill-color);\n",
       "      border-top-color: var(--fill-color);\n",
       "    }\n",
       "    60% {\n",
       "      border-color: transparent;\n",
       "      border-right-color: var(--fill-color);\n",
       "    }\n",
       "    80% {\n",
       "      border-color: transparent;\n",
       "      border-right-color: var(--fill-color);\n",
       "      border-bottom-color: var(--fill-color);\n",
       "    }\n",
       "    90% {\n",
       "      border-color: transparent;\n",
       "      border-bottom-color: var(--fill-color);\n",
       "    }\n",
       "  }\n",
       "</style>\n",
       "\n",
       "      <script>\n",
       "        async function quickchart(key) {\n",
       "          const quickchartButtonEl =\n",
       "            document.querySelector('#' + key + ' button');\n",
       "          quickchartButtonEl.disabled = true;  // To prevent multiple clicks.\n",
       "          quickchartButtonEl.classList.add('colab-df-spinner');\n",
       "          try {\n",
       "            const charts = await google.colab.kernel.invokeFunction(\n",
       "                'suggestCharts', [key], {});\n",
       "          } catch (error) {\n",
       "            console.error('Error during call to suggestCharts:', error);\n",
       "          }\n",
       "          quickchartButtonEl.classList.remove('colab-df-spinner');\n",
       "          quickchartButtonEl.classList.add('colab-df-quickchart-complete');\n",
       "        }\n",
       "        (() => {\n",
       "          let quickchartButtonEl =\n",
       "            document.querySelector('#df-009cd329-2a18-4cbb-8bfd-de9572e3701b button');\n",
       "          quickchartButtonEl.style.display =\n",
       "            google.colab.kernel.accessAllowed ? 'block' : 'none';\n",
       "        })();\n",
       "      </script>\n",
       "    </div>\n",
       "\n",
       "    </div>\n",
       "  </div>\n"
      ],
      "text/plain": [
       "    sepal length (cm)  sepal width (cm)  petal length (cm)  petal width (cm)\n",
       "0                 5.1               3.5                1.4               0.2\n",
       "1                 4.9               3.0                1.4               0.2\n",
       "2                 4.7               3.2                1.3               0.2\n",
       "3                 4.6               3.1                1.5               0.2\n",
       "4                 5.0               3.6                1.4               0.2\n",
       "5                 5.4               3.9                1.7               0.4\n",
       "6                 4.6               3.4                1.4               0.3\n",
       "7                 5.0               3.4                1.5               0.2\n",
       "8                 4.4               2.9                1.4               0.2\n",
       "9                 4.9               3.1                1.5               0.1\n",
       "10                5.4               3.7                1.5               0.2\n",
       "11                4.8               3.4                1.6               0.2\n",
       "12                4.8               3.0                1.4               0.1\n",
       "13                4.3               3.0                1.1               0.1\n",
       "14                5.8               4.0                1.2               0.2\n",
       "15                5.7               4.4                1.5               0.4\n",
       "16                5.4               3.9                1.3               0.4\n",
       "17                5.1               3.5                1.4               0.3\n",
       "18                5.7               3.8                1.7               0.3\n",
       "19                5.1               3.8                1.5               0.3"
      ]
     },
     "execution_count": 27,
     "metadata": {},
     "output_type": "execute_result"
    }
   ],
   "source": [
    "X.head(20)"
   ]
  },
  {
   "cell_type": "code",
   "execution_count": 28,
   "metadata": {
    "colab": {
     "base_uri": "https://localhost:8080/",
     "height": 209
    },
    "id": "qvDCKHRnWpVH",
    "outputId": "ddde78ec-f71f-478e-c2b0-065545ad4bea"
   },
   "outputs": [
    {
     "data": {
      "text/html": [
       "<div>\n",
       "<style scoped>\n",
       "    .dataframe tbody tr th:only-of-type {\n",
       "        vertical-align: middle;\n",
       "    }\n",
       "\n",
       "    .dataframe tbody tr th {\n",
       "        vertical-align: top;\n",
       "    }\n",
       "\n",
       "    .dataframe thead th {\n",
       "        text-align: right;\n",
       "    }\n",
       "</style>\n",
       "<table border=\"1\" class=\"dataframe\">\n",
       "  <thead>\n",
       "    <tr style=\"text-align: right;\">\n",
       "      <th></th>\n",
       "      <th>count</th>\n",
       "    </tr>\n",
       "    <tr>\n",
       "      <th>target</th>\n",
       "      <th></th>\n",
       "    </tr>\n",
       "  </thead>\n",
       "  <tbody>\n",
       "    <tr>\n",
       "      <th>0</th>\n",
       "      <td>50</td>\n",
       "    </tr>\n",
       "    <tr>\n",
       "      <th>1</th>\n",
       "      <td>50</td>\n",
       "    </tr>\n",
       "    <tr>\n",
       "      <th>2</th>\n",
       "      <td>50</td>\n",
       "    </tr>\n",
       "  </tbody>\n",
       "</table>\n",
       "</div><br><label><b>dtype:</b> int64</label>"
      ],
      "text/plain": [
       "target\n",
       "0    50\n",
       "1    50\n",
       "2    50\n",
       "Name: count, dtype: int64"
      ]
     },
     "execution_count": 28,
     "metadata": {},
     "output_type": "execute_result"
    }
   ],
   "source": [
    "y.value_counts()"
   ]
  },
  {
   "cell_type": "code",
   "execution_count": 29,
   "metadata": {
    "colab": {
     "base_uri": "https://localhost:8080/",
     "height": 430
    },
    "id": "15fRuolHWpVI",
    "outputId": "74e74a23-f784-473d-a84d-0524fd250761"
   },
   "outputs": [
    {
     "data": {
      "image/png": "[encoded data removed]",
      "text/plain": [
       "<Figure size 640x480 with 1 Axes>"
      ]
     },
     "metadata": {},
     "output_type": "display_data"
    }
   ],
   "source": [
    "plt.hist(X['petal width (cm)'],10)\n",
    "plt.show()"
   ]
  },
  {
   "cell_type": "code",
   "execution_count": 30,
   "metadata": {
    "colab": {
     "base_uri": "https://localhost:8080/",
     "height": 430
    },
    "id": "0aUOiJJmWpVJ",
    "outputId": "8e8b679a-d3a1-403a-d14a-874a20aaca0e",
    "scrolled": true
   },
   "outputs": [
    {
     "data": {
      "image/png": "[encoded data removed]",
      "text/plain": [
       "<Figure size 640x480 with 1 Axes>"
      ]
     },
     "metadata": {},
     "output_type": "display_data"
    }
   ],
   "source": [
    "\n",
    "plt.hist(X['petal length (cm)'],30)\n",
    "plt.show()"
   ]
  },
  {
   "cell_type": "code",
   "execution_count": 31,
   "metadata": {
    "colab": {
     "base_uri": "https://localhost:8080/",
     "height": 430
    },
    "id": "7AyFLGY4WpVJ",
    "outputId": "5b0eb1ca-8d48-4afc-efeb-239da2a4b60d",
    "scrolled": true
   },
   "outputs": [
    {
     "data": {
      "image/png": "[encoded data removed]",
      "text/plain": [
       "<Figure size 640x480 with 1 Axes>"
      ]
     },
     "metadata": {},
     "output_type": "display_data"
    }
   ],
   "source": [
    "\n",
    "plt.hist(X['sepal length (cm)'],10)\n",
    "plt.show()"
   ]
  },
  {
   "cell_type": "code",
   "execution_count": 32,
   "metadata": {
    "id": "Jxawixy-WpVK"
   },
   "outputs": [],
   "source": [
    "mu = np.mean(X, 0)\n",
    "sigma = np.std(X, 0)\n",
    "X = (X - mu ) / sigma"
   ]
  },
  {
   "cell_type": "code",
   "execution_count": 33,
   "metadata": {
    "colab": {
     "base_uri": "https://localhost:8080/",
     "height": 430
    },
    "id": "LxA15-stWpVL",
    "outputId": "9478648c-b0d3-402c-ca3e-7f424c2a5884"
   },
   "outputs": [
    {
     "data": {
      "image/png": "[encoded data removed]",
      "text/plain": [
       "<Figure size 640x480 with 1 Axes>"
      ]
     },
     "metadata": {},
     "output_type": "display_data"
    }
   ],
   "source": [
    "plt.hist(X['petal width (cm)'],10)\n",
    "plt.show()"
   ]
  },
  {
   "cell_type": "code",
   "execution_count": 34,
   "metadata": {
    "colab": {
     "base_uri": "https://localhost:8080/",
     "height": 430
    },
    "id": "Ydt67NY1WpVL",
    "outputId": "e9837e99-a0c6-4ac6-ee8e-75a9cf1feb84"
   },
   "outputs": [
    {
     "data": {
      "image/png": "[encoded data removed]",
      "text/plain": [
       "<Figure size 640x480 with 1 Axes>"
      ]
     },
     "metadata": {},
     "output_type": "display_data"
    }
   ],
   "source": [
    "plt.hist(X['sepal length (cm)'],10)\n",
    "plt.show()"
   ]
  },
  {
   "cell_type": "code",
   "execution_count": 35,
   "metadata": {
    "colab": {
     "base_uri": "https://localhost:8080/"
    },
    "id": "Gy2kYZbkWpVM",
    "outputId": "4669be01-0ab1-4a0a-b471-bb191770a0b3"
   },
   "outputs": [
    {
     "data": {
      "text/plain": [
       "(array(['setosa', 'versicolor', 'virginica'], dtype='<U10'),\n",
       " ['sepal length (cm)',\n",
       "  'sepal width (cm)',\n",
       "  'petal length (cm)',\n",
       "  'petal width (cm)'])"
      ]
     },
     "execution_count": 35,
     "metadata": {},
     "output_type": "execute_result"
    }
   ],
   "source": [
    "dataset.target_names, dataset.feature_names\n"
   ]
  },
  {
   "cell_type": "code",
   "execution_count": 36,
   "metadata": {
    "colab": {
     "base_uri": "https://localhost:8080/",
     "height": 98
    },
    "id": "yKdMVo_hWpVN",
    "outputId": "cb697f14-8968-4d66-c1f0-857fdf54f613"
   },
   "outputs": [
    {
     "name": "stdout",
     "output_type": "stream",
     "text": [
      "[1 0 2 0 0 2 0 2 1 0 1 1 1 0 1 2 1 0 1 2] [1 0 2 0 0 2 0 2 1 0 1 1 1 0 2 2 1 0 1 2]\n"
     ]
    },
    {
     "data": {
      "application/vnd.google.colaboratory.intrinsic+json": {
       "summary": "{\n  \"name\": \"             ['Our Implementation', 'Sklearn\\\\'s Implementation'])\",\n  \"rows\": 1,\n  \"fields\": [\n    {\n      \"column\": \"Our Implementation\",\n      \"properties\": {\n        \"dtype\": \"number\",\n        \"std\": null,\n        \"min\": 0.9111111111111111,\n        \"max\": 0.9111111111111111,\n        \"num_unique_values\": 1,\n        \"samples\": [\n          0.9111111111111111\n        ],\n        \"semantic_type\": \"\",\n        \"description\": \"\"\n      }\n    },\n    {\n      \"column\": \"Sklearn's Implementation\",\n      \"properties\": {\n        \"dtype\": \"number\",\n        \"std\": null,\n        \"min\": 0.9111111111111111,\n        \"max\": 0.9111111111111111,\n        \"num_unique_values\": 1,\n        \"samples\": [\n          0.9111111111111111\n        ],\n        \"semantic_type\": \"\",\n        \"description\": \"\"\n      }\n    }\n  ]\n}",
       "type": "dataframe"
      },
      "text/html": [
       "\n",
       "  <div id=\"df-10fccfad-37d4-4e12-8eeb-a5a609e1a2b5\" class=\"colab-df-container\">\n",
       "    <div>\n",
       "<style scoped>\n",
       "    .dataframe tbody tr th:only-of-type {\n",
       "        vertical-align: middle;\n",
       "    }\n",
       "\n",
       "    .dataframe tbody tr th {\n",
       "        vertical-align: top;\n",
       "    }\n",
       "\n",
       "    .dataframe thead th {\n",
       "        text-align: right;\n",
       "    }\n",
       "</style>\n",
       "<table border=\"1\" class=\"dataframe\">\n",
       "  <thead>\n",
       "    <tr style=\"text-align: right;\">\n",
       "      <th></th>\n",
       "      <th>Our Implementation</th>\n",
       "      <th>Sklearn's Implementation</th>\n",
       "    </tr>\n",
       "  </thead>\n",
       "  <tbody>\n",
       "    <tr>\n",
       "      <th>Accuracy</th>\n",
       "      <td>0.911111</td>\n",
       "      <td>0.911111</td>\n",
       "    </tr>\n",
       "  </tbody>\n",
       "</table>\n",
       "</div>\n",
       "    <div class=\"colab-df-buttons\">\n",
       "\n",
       "  <div class=\"colab-df-container\">\n",
       "    <button class=\"colab-df-convert\" onclick=\"convertToInteractive('df-10fccfad-37d4-4e12-8eeb-a5a609e1a2b5')\"\n",
       "            title=\"Convert this dataframe to an interactive table.\"\n",
       "            style=\"display:none;\">\n",
       "\n",
       "  <svg xmlns=\"http://www.w3.org/2000/svg\" height=\"24px\" viewBox=\"0 -960 960 960\">\n",
       "    <path d=\"M120-120v-720h720v720H120Zm60-500h600v-160H180v160Zm220 220h160v-160H400v160Zm0 220h160v-160H400v160ZM180-400h160v-160H180v160Zm440 0h160v-160H620v160ZM180-180h160v-160H180v160Zm440 0h160v-160H620v160Z\"/>\n",
       "  </svg>\n",
       "    </button>\n",
       "\n",
       "  <style>\n",
       "    .colab-df-container {\n",
       "      display:flex;\n",
       "      gap: 12px;\n",
       "    }\n",
       "\n",
       "    .colab-df-convert {\n",
       "      background-color: #E8F0FE;\n",
       "      border: none;\n",
       "      border-radius: 50%;\n",
       "      cursor: pointer;\n",
       "      display: none;\n",
       "      fill: #1967D2;\n",
       "      height: 32px;\n",
       "      padding: 0 0 0 0;\n",
       "      width: 32px;\n",
       "    }\n",
       "\n",
       "    .colab-df-convert:hover {\n",
       "      background-color: #E2EBFA;\n",
       "      box-shadow: 0px 1px 2px rgba(60, 64, 67, 0.3), 0px 1px 3px 1px rgba(60, 64, 67, 0.15);\n",
       "      fill: #174EA6;\n",
       "    }\n",
       "\n",
       "    .colab-df-buttons div {\n",
       "      margin-bottom: 4px;\n",
       "    }\n",
       "\n",
       "    [theme=dark] .colab-df-convert {\n",
       "      background-color: #3B4455;\n",
       "      fill: #D2E3FC;\n",
       "    }\n",
       "\n",
       "    [theme=dark] .colab-df-convert:hover {\n",
       "      background-color: #434B5C;\n",
       "      box-shadow: 0px 1px 3px 1px rgba(0, 0, 0, 0.15);\n",
       "      filter: drop-shadow(0px 1px 2px rgba(0, 0, 0, 0.3));\n",
       "      fill: #FFFFFF;\n",
       "    }\n",
       "  </style>\n",
       "\n",
       "    <script>\n",
       "      const buttonEl =\n",
       "        document.querySelector('#df-10fccfad-37d4-4e12-8eeb-a5a609e1a2b5 button.colab-df-convert');\n",
       "      buttonEl.style.display =\n",
       "        google.colab.kernel.accessAllowed ? 'block' : 'none';\n",
       "\n",
       "      async function convertToInteractive(key) {\n",
       "        const element = document.querySelector('#df-10fccfad-37d4-4e12-8eeb-a5a609e1a2b5');\n",
       "        const dataTable =\n",
       "          await google.colab.kernel.invokeFunction('convertToInteractive',\n",
       "                                                    [key], {});\n",
       "        if (!dataTable) return;\n",
       "\n",
       "        const docLinkHtml = 'Like what you see? Visit the ' +\n",
       "          '<a target=\"_blank\" href=https://colab.research.google.com/notebooks/data_table.ipynb>data table notebook</a>'\n",
       "          + ' to learn more about interactive tables.';\n",
       "        element.innerHTML = '';\n",
       "        dataTable['output_type'] = 'display_data';\n",
       "        await google.colab.output.renderOutput(dataTable, element);\n",
       "        const docLink = document.createElement('div');\n",
       "        docLink.innerHTML = docLinkHtml;\n",
       "        element.appendChild(docLink);\n",
       "      }\n",
       "    </script>\n",
       "  </div>\n",
       "\n",
       "\n",
       "    </div>\n",
       "  </div>\n"
      ],
      "text/plain": [
       "          Our Implementation  Sklearn's Implementation\n",
       "Accuracy            0.911111                  0.911111"
      ]
     },
     "execution_count": 36,
     "metadata": {},
     "output_type": "execute_result"
    }
   ],
   "source": [
    "if isinstance(X, pd.DataFrame):\n",
    "    X = X.to_numpy()\n",
    "    y = y.to_numpy()\n",
    "\n",
    "X_train, X_test, y_train, y_test = train_test_split(\\\n",
    "                X, y, test_size=0.3,stratify=y, random_state=45)\n",
    "\n",
    "\n",
    "\n",
    "our_classifier = KNearestNeighbors(X_train, y_train, n_neighbors=8)\n",
    "sklearn_classifier = KNeighborsClassifier(n_neighbors=8).fit(X_train, y_train)\n",
    "\n",
    "our_accuracy, y_pred, y_test = our_classifier.score(X_test, y_test)\n",
    "sklearn_accuracy = sklearn_classifier.score(X_test, y_test)\n",
    "\n",
    "print(y_pred[:20], y_test[:20])\n",
    "\n",
    "pd.DataFrame([[our_accuracy, sklearn_accuracy]],\n",
    "             ['Accuracy'],\n",
    "             ['Our Implementation', 'Sklearn\\'s Implementation'])"
   ]
  },
  {
   "cell_type": "code",
   "execution_count": 37,
   "metadata": {
    "colab": {
     "base_uri": "https://localhost:8080/",
     "height": 903
    },
    "id": "Tbj6tw0QWpVN",
    "outputId": "e3170996-417a-481b-a027-4419289b4767"
   },
   "outputs": [
    {
     "name": "stdout",
     "output_type": "stream",
     "text": [
      "k=2, accuracy=0.8667\n",
      "k=3, accuracy=0.9111\n",
      "k=4, accuracy=0.9111\n",
      "k=5, accuracy=0.9111\n",
      "k=6, accuracy=0.9111\n",
      "k=7, accuracy=0.9333\n",
      "k=8, accuracy=0.9333\n",
      "k=9, accuracy=0.9333\n",
      "k=10, accuracy=0.9556\n",
      "k=11, accuracy=0.9556\n"
     ]
    },
    {
     "name": "stderr",
     "output_type": "stream",
     "text": [
      "/tmp/ipython-input-1010391763.py:64: RuntimeWarning: divide by zero encountered in divide\n",
      "  inv_dist = 1 / dist\n",
      "/tmp/ipython-input-1010391763.py:66: RuntimeWarning: invalid value encountered in divide\n",
      "  mean_inv_dist = inv_dist / np.sum(inv_dist, axis=1)[:, np.newaxis]\n"
     ]
    },
    {
     "data": {
      "image/png": "[encoded data removed]",
      "text/plain": [
       "<Figure size 800x500 with 1 Axes>"
      ]
     },
     "metadata": {},
     "output_type": "display_data"
    },
    {
     "data": {
      "text/plain": [
       "[0.8666666666666667,\n",
       " 0.9111111111111111,\n",
       " 0.9111111111111111,\n",
       " 0.9111111111111111,\n",
       " 0.9111111111111111,\n",
       " 0.9333333333333333,\n",
       " 0.9333333333333333,\n",
       " 0.9333333333333333,\n",
       " 0.9555555555555556,\n",
       " 0.9555555555555556]"
      ]
     },
     "execution_count": 37,
     "metadata": {},
     "output_type": "execute_result"
    }
   ],
   "source": [
    "def evaluate_k_range(k_values=range(2,12), weights=\"distance\"):\n",
    "\n",
    "    accuracies = []\n",
    "\n",
    "    for k in k_values:\n",
    "\n",
    "        model = KNearestNeighbors(X_train, y_train, n_neighbors=k, weights=\"distance\")\n",
    "\n",
    "\n",
    "        acc, _, _ = model.score(X_test, y_test)\n",
    "        accuracies.append(acc)\n",
    "        print(f\"k={k}, accuracy={acc:.4f}\")\n",
    "\n",
    "\n",
    "    plt.figure(figsize=(8,5))\n",
    "    plt.plot(k_values, accuracies, marker='o')\n",
    "    plt.xlabel(\"Número de vecinos (k)\")\n",
    "    plt.ylabel(\"Accuracy\")\n",
    "    plt.title(f\"Accuracy vs k (weights='{weights}')\")\n",
    "    plt.grid(True)\n",
    "    plt.show()\n",
    "\n",
    "    return accuracies\n",
    "evaluate_k_range()"
   ]
  }
 ],
 "metadata": {
  "colab": {
   "provenance": []
  },
  "kernelspec": {
   "display_name": "Python 3 (ipykernel)",
   "language": "python",
   "name": "python3"
  },
  "language_info": {
   "codemirror_mode": {
    "name": "ipython",
    "version": 3
   },
   "file_extension": ".py",
   "mimetype": "text/x-python",
   "name": "python",
   "nbconvert_exporter": "python",
   "pygments_lexer": "ipython3",
   "version": "3.12.3"
  }
 },
 "nbformat": 4,
 "nbformat_minor": 0
}
